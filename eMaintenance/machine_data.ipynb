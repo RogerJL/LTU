{
 "cells": [
  {
   "cell_type": "code",
   "execution_count": null,
   "id": "initial_id",
   "metadata": {
    "collapsed": true
   },
   "outputs": [],
   "source": [
    "\n",
    "import numpy as np\n",
    "import pandas as pd\n",
    "\n",
    "import matplotlib\n",
    "import lets_plot as lplt\n",
    "import matplotlib.pyplot as plt\n",
    "#matplotlib.use(\"TkAgg\")\n",
    "\n",
    "'''\n",
    "Submit your solutions in pdf format, with code and plots supporting your answers.\n",
    "machine_data contains raw data of a part from 3 manufactures A, B, C\n",
    "The system is run to failure under load\n",
    "The load and the operation time is provided in each row\n",
    "\n",
    "What is the range of load and time during operation for each manufacturer?\n",
    "What is the most expected load value?\n",
    "How are the load and time related?\n",
    "Which distribution best describes the load?\n",
    "Which distribution best describes the time?\n",
    "\n",
    "Which manufacturer has the best performance and why?\n",
    "\n",
    "'''\n"
   ]
  },
  {
   "cell_type": "code",
   "id": "9b7e0c68d3ff99f2",
   "metadata": {
    "collapsed": false
   },
   "outputs": [],
   "source": [
    "# read the data file into a dataframe\n",
    "df = pd.read_csv('machine_data.csv')\n",
    "print(df)\n",
    "\n",
    "print(df.shape)\n"
   ]
  },
  {
   "cell_type": "code",
   "id": "89421dfb0e7fe04e",
   "metadata": {
    "collapsed": false
   },
   "outputs": [],
   "source": [
    "\"\"\"\n",
    "Drop the index\n",
    "\"\"\"\n",
    "df.drop(columns='Unnamed: 0', inplace=True)\n",
    "minimum = df.min()\n",
    "maximum = df.max()\n"
   ]
  },
  {
   "cell_type": "code",
   "id": "88670fb5497cc944",
   "metadata": {
    "collapsed": false
   },
   "outputs": [],
   "source": [
    "\"\"\"\n",
    "Extract data for a given manufacturer\n",
    "\"\"\"\n",
    "lplt.ggplot(df)\n",
    "lplt.show()\n",
    "\n",
    "grpByManu = df.groupby(['manufacturef'])\n",
    "\n",
    "fig, axs = plt.subplots(3 + 1, 1)\n",
    "ax, axs = axs[0], axs[1:]\n",
    "ax.axis([minimum['load'], maximum['load'], minimum['time'], maximum['time']])\n",
    "ax.set_title(\"Relation between load and time\")\n",
    "ax.set_xlabel(\"Load\")\n",
    "ax.set_ylabel(\"Time\")\n",
    "\n",
    "for index, (name, dfa) in enumerate(grpByManu):\n",
    "    name = \"Manufacturer \" + name[0]\n",
    "\n",
    "    load = dfa['load']\n",
    "    time = dfa['time']\n",
    "\n",
    "    #%%\n",
    "    '''\n",
    "    Is there a relationship between load and time\n",
    "    '''\n",
    "    path_collection = ax.scatter(load, time)\n",
    "    path_collection.set_label(name)\n",
    "\n",
    "    #%%\n",
    "    '''\n",
    "    Characteristics of data\n",
    "    mean, median, mode\n",
    "    '''\n",
    "    print(f\"{name}, load mean={dfa['load'].mean()}, median={dfa['load'].median()}, mode={dfa['load'].mode()}\")\n",
    "    #%%\n",
    "    '''\n",
    "    How is load distributed\n",
    "    Why does it matter\n",
    "    uniform, normal, exponential, weibull\n",
    "    '''\n",
    "    x = dfa[['load']].plot(ax=axs[index], kind='hist', bins=10)\n",
    "    x.set_label(name)\n",
    "    x.set_title(f\"Histogram of load distribution\")\n",
    "\n",
    "    #%%\n",
    "    '''\n",
    "    variance, standard deviation\n",
    "    What is the meaning of 6sigma\n",
    "    '''\n",
    "    print(f\"{name}, load var={dfa['load'].var()}, stddev={dfa['load'].std()}\")\n",
    "    #%%\n",
    "    '''\n",
    "    Other plots that can be useful \n",
    "    boxplot\n",
    "    '''\n",
    "ax.legend()\n",
    "plt.show()\n"
   ]
  }
 ],
 "metadata": {
  "kernelspec": {
   "display_name": "Python 3",
   "language": "python",
   "name": "python3"
  },
  "language_info": {
   "codemirror_mode": {
    "name": "ipython",
    "version": 2
   },
   "file_extension": ".py",
   "mimetype": "text/x-python",
   "name": "python",
   "nbconvert_exporter": "python",
   "pygments_lexer": "ipython2",
   "version": "2.7.6"
  }
 },
 "nbformat": 4,
 "nbformat_minor": 5
}
