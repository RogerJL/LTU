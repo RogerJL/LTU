{
 "cells": [
  {
   "cell_type": "markdown",
   "id": "4993853cd483068d",
   "metadata": {
    "collapsed": false
   },
   "source": [
    "<a href=\"https://colab.research.google.com/github/RogerJL/LTU/blob/main/eMaintenance/machine_data.ipynb\" target=\"_parent\"><img src=\"https://colab.research.google.com/assets/colab-badge.svg\" alt=\"Open In Colab\"/></a>"
   ]
  },
  {
   "cell_type": "markdown",
   "id": "2132dadfd70fca78",
   "metadata": {
    "collapsed": false
   },
   "source": [
    "Submit your solutions in pdf format, with code and plots supporting your answers.\n",
    "machine_data contains raw data of a part from 3 manufactures A, B, C\n",
    "The system is run to failure under load\n",
    "The load and the operation time is provided in each row\n",
    "\n",
    "What is the range of load and time during operation for each manufacturer?\n",
    "What is the most expected load value?\n",
    "How are the load and time related?\n",
    "Which distribution best describes the load?\n",
    "Which distribution best describes the time?\n",
    "\n",
    "Which manufacturer has the best performance and why?\n"
   ]
  },
  {
   "cell_type": "code",
   "execution_count": 65,
   "id": "initial_id",
   "metadata": {
    "ExecuteTime": {
     "end_time": "2024-02-13T21:27:08.382642400Z",
     "start_time": "2024-02-13T21:27:08.372644700Z"
    },
    "collapsed": true
   },
   "outputs": [],
   "source": [
    "%matplotlib notebook\n",
    "\n",
    "from math import sqrt\n",
    "\n",
    "import numpy as np\n",
    "import pandas as pd\n",
    "\n",
    "import matplotlib\n",
    "import lets_plot as lplt\n",
    "import matplotlib.pyplot as plt\n",
    "#matplotlib.use(\"TkAgg\")\n",
    "\n",
    "from scipy.stats import weibull_min, norm, uniform, expon\n"
   ]
  },
  {
   "cell_type": "code",
   "execution_count": 66,
   "id": "9b7e0c68d3ff99f2",
   "metadata": {
    "ExecuteTime": {
     "end_time": "2024-02-13T21:27:08.404641Z",
     "start_time": "2024-02-13T21:27:08.375642700Z"
    },
    "collapsed": false
   },
   "outputs": [
    {
     "name": "stdout",
     "output_type": "stream",
     "text": [
      "machine_data (1229, 4)\n"
     ]
    }
   ],
   "source": [
    "# read the data file into a dataframe\n",
    "df = pd.read_csv('machine_data.csv')\n",
    "print(\"machine_data\", df.shape)\n"
   ]
  },
  {
   "cell_type": "markdown",
   "id": "f62f4daf54ca7392",
   "metadata": {
    "collapsed": false
   },
   "source": [
    "Drop the index"
   ]
  },
  {
   "cell_type": "code",
   "execution_count": 67,
   "id": "4412e305e40d63af",
   "metadata": {
    "ExecuteTime": {
     "end_time": "2024-02-13T21:27:08.405644Z",
     "start_time": "2024-02-13T21:27:08.395644500Z"
    },
    "collapsed": false
   },
   "outputs": [
    {
     "name": "stdout",
     "output_type": "stream",
     "text": [
      "Index(['time', 'load', 'manufacturer'], dtype='object')\n"
     ]
    }
   ],
   "source": [
    "df.drop(columns='Unnamed: 0', inplace=True)\n",
    "df.loc[df.manufacturef == 'c', 'manufacturef'] = 'C'\n",
    "df.loc[:, 'manufacturer'] = df.manufacturef\n",
    "df.drop(columns='manufacturef', inplace=True)\n",
    "print(df.columns)"
   ]
  },
  {
   "cell_type": "code",
   "execution_count": 68,
   "id": "89421dfb0e7fe04e",
   "metadata": {
    "ExecuteTime": {
     "end_time": "2024-02-13T21:27:08.414643300Z",
     "start_time": "2024-02-13T21:27:08.399645300Z"
    },
    "collapsed": false
   },
   "outputs": [],
   "source": [
    "minimum = df.min()\n",
    "maximum = df.max()\n",
    "mean = df.mean(numeric_only=True)\n",
    "std = df.std(numeric_only=True)\n"
   ]
  },
  {
   "cell_type": "markdown",
   "id": "6053150c4e03f846",
   "metadata": {
    "collapsed": false
   },
   "source": [
    "Extract data for a given manufacturer"
   ]
  },
  {
   "cell_type": "code",
   "execution_count": 69,
   "id": "b03091717e967901",
   "metadata": {
    "ExecuteTime": {
     "end_time": "2024-02-13T21:27:08.457640600Z",
     "start_time": "2024-02-13T21:27:08.410643300Z"
    },
    "collapsed": false
   },
   "outputs": [
    {
     "data": {
      "text/html": [
       "\n",
       "            <div id=\"A4HXwi\"></div>\n",
       "            <script type=\"text/javascript\" data-lets-plot-script=\"library\">\n",
       "                if(!window.letsPlotCallQueue) {\n",
       "                    window.letsPlotCallQueue = [];\n",
       "                }; \n",
       "                window.letsPlotCall = function(f) {\n",
       "                    window.letsPlotCallQueue.push(f);\n",
       "                };\n",
       "                (function() {\n",
       "                    var script = document.createElement(\"script\");\n",
       "                    script.type = \"text/javascript\";\n",
       "                    script.src = \"https://cdn.jsdelivr.net/gh/JetBrains/lets-plot@v4.2.0/js-package/distr/lets-plot.min.js\";\n",
       "                    script.onload = function() {\n",
       "                        window.letsPlotCall = function(f) {f();};\n",
       "                        window.letsPlotCallQueue.forEach(function(f) {f();});\n",
       "                        window.letsPlotCallQueue = [];\n",
       "                        \n",
       "                    };\n",
       "                    script.onerror = function(event) {\n",
       "                        window.letsPlotCall = function(f) {};    // noop\n",
       "                        window.letsPlotCallQueue = [];\n",
       "                        var div = document.createElement(\"div\");\n",
       "                        div.style.color = 'darkred';\n",
       "                        div.textContent = 'Error loading Lets-Plot JS';\n",
       "                        document.getElementById(\"A4HXwi\").appendChild(div);\n",
       "                    };\n",
       "                    var e = document.getElementById(\"A4HXwi\");\n",
       "                    e.appendChild(script);\n",
       "                })()\n",
       "            </script>\n",
       "            "
      ]
     },
     "metadata": {},
     "output_type": "display_data"
    },
    {
     "name": "stdout",
     "output_type": "stream",
     "text": [
      "   c  load_mean\n",
      "0  A  74.497625\n",
      "1  B  74.686092\n",
      "2  C  74.376665\n"
     ]
    },
    {
     "data": {
      "text/html": [
       "   <div id=\"yfcggq\"></div>\n",
       "   <script type=\"text/javascript\" data-lets-plot-script=\"plot\">\n",
       "       (function() {\n",
       "           var plotSpec={\n",
       "\"data\":{\n",
       "},\n",
       "\"mapping\":{\n",
       "\"x\":\"load\",\n",
       "\"fill\":\"manufacturer\"\n",
       "},\n",
       "\"data_meta\":{\n",
       "},\n",
       "\"ggsize\":{\n",
       "\"width\":700.0,\n",
       "\"height\":300.0\n",
       "},\n",
       "\"theme\":{\n",
       "\"panel_grid_major_x\":\"blank\"\n",
       "},\n",
       "\"kind\":\"plot\",\n",
       "\"scales\":[{\n",
       "\"aesthetic\":\"fill\",\n",
       "\"type\":\"seq\",\n",
       "\"scale_mapper_kind\":\"color_brewer\"\n",
       "}],\n",
       "\"layers\":[{\n",
       "\"geom\":\"histogram\",\n",
       "\"mapping\":{\n",
       "},\n",
       "\"position\":\"dodge\",\n",
       "\"data_meta\":{\n",
       "},\n",
       "\"alpha\":0.7,\n",
       "\"data\":{\n",
       "\"..count..\":[0.0,0.0,1.0,4.0,3.0,10.0,8.0,13.0,19.0,19.0,28.0,46.0,38.0,37.0,31.0,30.0,27.0,29.0,24.0,15.0,13.0,9.0,2.0,4.0,0.0,0.0,0.0,0.0,0.0,1.0,1.0,0.0,0.0,1.0,5.0,8.0,9.0,7.0,18.0,21.0,21.0,50.0,37.0,38.0,44.0,27.0,29.0,23.0,31.0,14.0,13.0,7.0,3.0,3.0,2.0,3.0,0.0,0.0,0.0,0.0,0.0,1.0,1.0,1.0,1.0,8.0,6.0,9.0,12.0,17.0,27.0,29.0,35.0,43.0,35.0,41.0,38.0,25.0,28.0,17.0,9.0,10.0,4.0,4.0,1.0,1.0,0.0,0.0,0.0,0.0],\n",
       "\"load\":[67.68435613862111,68.19297536113,68.7015945836389,69.21021380614778,69.71883302865666,70.22745225116556,70.73607147367444,71.24469069618333,71.75330991869222,72.26192914120111,72.77054836370999,73.27916758621889,73.78778680872777,74.29640603123667,74.80502525374555,75.31364447625444,75.82226369876334,76.33088292127222,76.8395021437811,77.34812136629,77.85674058879889,78.36535981130777,78.87397903381667,79.38259825632555,79.89121747883445,80.39983670134333,80.90845592385222,81.4170751463611,81.92569436887,82.43431359137888,67.68435613862111,68.19297536113,68.7015945836389,69.21021380614778,69.71883302865666,70.22745225116556,70.73607147367444,71.24469069618333,71.75330991869222,72.26192914120111,72.77054836370999,73.27916758621889,73.78778680872777,74.29640603123667,74.80502525374555,75.31364447625444,75.82226369876334,76.33088292127222,76.8395021437811,77.34812136629,77.85674058879889,78.36535981130777,78.87397903381667,79.38259825632555,79.89121747883445,80.39983670134333,80.90845592385222,81.4170751463611,81.92569436887,82.43431359137888,67.68435613862111,68.19297536113,68.7015945836389,69.21021380614778,69.71883302865666,70.22745225116556,70.73607147367444,71.24469069618333,71.75330991869222,72.26192914120111,72.77054836370999,73.27916758621889,73.78778680872777,74.29640603123667,74.80502525374555,75.31364447625444,75.82226369876334,76.33088292127222,76.8395021437811,77.34812136629,77.85674058879889,78.36535981130777,78.87397903381667,79.38259825632555,79.89121747883445,80.39983670134333,80.90845592385222,81.4170751463611,81.92569436887,82.43431359137888],\n",
       "\"manufacturer\":[\"C\",\"C\",\"C\",\"C\",\"C\",\"C\",\"C\",\"C\",\"C\",\"C\",\"C\",\"C\",\"C\",\"C\",\"C\",\"C\",\"C\",\"C\",\"C\",\"C\",\"C\",\"C\",\"C\",\"C\",\"C\",\"C\",\"C\",\"C\",\"C\",\"C\",\"A\",\"A\",\"A\",\"A\",\"A\",\"A\",\"A\",\"A\",\"A\",\"A\",\"A\",\"A\",\"A\",\"A\",\"A\",\"A\",\"A\",\"A\",\"A\",\"A\",\"A\",\"A\",\"A\",\"A\",\"A\",\"A\",\"A\",\"A\",\"A\",\"A\",\"B\",\"B\",\"B\",\"B\",\"B\",\"B\",\"B\",\"B\",\"B\",\"B\",\"B\",\"B\",\"B\",\"B\",\"B\",\"B\",\"B\",\"B\",\"B\",\"B\",\"B\",\"B\",\"B\",\"B\",\"B\",\"B\",\"B\",\"B\",\"B\",\"B\"]\n",
       "}\n",
       "},{\n",
       "\"geom\":\"vline\",\n",
       "\"mapping\":{\n",
       "\"xintercept\":\"xintercept\",\n",
       "\"color\":\"color\"\n",
       "},\n",
       "\"data_meta\":{\n",
       "},\n",
       "\"linetype\":\"dashed\",\n",
       "\"data\":{\n",
       "\"xintercept\":[74.49762548838555,74.68609202039703,74.3766653355961],\n",
       "\"color\":[\"A\",\"B\",\"C\"]\n",
       "}\n",
       "}],\n",
       "\"metainfo_list\":[]\n",
       "};\n",
       "           var plotContainer = document.getElementById(\"yfcggq\");\n",
       "           window.letsPlotCall(function() {{\n",
       "               LetsPlot.buildPlotFromProcessedSpecs(plotSpec, -1, -1, plotContainer);\n",
       "           }});\n",
       "       })();    \n",
       "   </script>"
      ],
      "text/plain": [
       "<lets_plot.plot.core.PlotSpec at 0x7fb82e1a0f90>"
      ]
     },
     "execution_count": 69,
     "metadata": {},
     "output_type": "execute_result"
    }
   ],
   "source": [
    "lplt.LetsPlot.setup_html()\n",
    "\n",
    "#lplt.ggplot(data, lplt.aes(x='rating', fill='cond')) + lplt.ggsize(700, 300) + \\\n",
    "#    lplt.geom_density(color='dark_green', alpha=.7) + lplt.scale_fill_brewer(type='seq') + \\\n",
    "#    lplt.theme(panel_grid_major_x='blank')\n",
    "classes = ['A', 'B', 'C']\n",
    "bounds_df = pd.DataFrame([(cl, df[df.manufacturer == cl].load.mean()) for cl in classes], \\\n",
    "                         columns=['c', 'load_mean'])\n",
    "print(bounds_df)\n",
    "\n",
    "(lplt.ggplot(df, lplt.aes(x='load', fill='manufacturer'))\n",
    " + lplt.ggsize(700, 300)\n",
    " + lplt.geom_histogram(position='dodge', alpha=0.7)\n",
    "# + lplt.geom_density(color='dark_green', alpha=.7)\n",
    " + lplt.scale_fill_brewer(type='seq')\n",
    " + lplt.theme(panel_grid_major_x='blank')\n",
    " + lplt.geom_vline(lplt.aes(xintercept=bounds_df.load_mean, color=bounds_df.c),\n",
    "                   linetype=\"dashed\"))\n",
    "#lplt.show()"
   ]
  },
  {
   "cell_type": "code",
   "execution_count": null,
   "id": "88670fb5497cc944",
   "metadata": {
    "collapsed": false,
    "is_executing": true
   },
   "outputs": [],
   "source": [
    "\n",
    "grpByManu = df.groupby(['manufacturer'])\n",
    "\n",
    "fig, axs = plt.subplots(1 + 3, 2, sharex=False, sharey=False)\n",
    "for ax in axs[:, 0]:\n",
    "    ax.set(xlim=(minimum['load'], maximum['load']))\n",
    "for ax in axs[:, 1]:\n",
    "    ax.set(xlim=(minimum['time'], maximum['time']))\n",
    "    \n",
    "ax, axs = axs[0,0], axs[1:, :]\n",
    "ax.set(ylim=(minimum['time'], maximum['time']))\n",
    "ax.set_title(\"Relation between load and time\")\n",
    "ax.set_xlabel(\"Load\")\n",
    "ax.set_ylabel(\"Time\")\n",
    "\n",
    "#time_range = np.linspace(weibull_min.ppf(0.01, c=c, loc=loc, scale=scale),\n",
    "#                weibull_min.ppf(0.99, c=c, loc=loc, scale=scale),\n",
    "#                100)\n",
    "time_range = np.linspace(minimum['time'], maximum['time'], 200)\n",
    "load_range = np.linspace(minimum['load'], maximum['load'], 200)\n",
    "\n",
    "for index, (name, dfa) in enumerate(grpByManu):\n",
    "    name = \"Manufacturer \" + name[0]\n",
    "\n",
    "    load = dfa['load']\n",
    "    time = dfa['time']\n",
    "\n",
    "    #%%\n",
    "    '''\n",
    "    Is there a relationship between load and time\n",
    "    '''\n",
    "    path_collection = ax.scatter(load, time)\n",
    "    path_collection.set_label(name)\n",
    "\n",
    "    #%%\n",
    "    '''\n",
    "    Characteristics of data\n",
    "    mean, median, mode\n",
    "    '''\n",
    "    print(f\"{name}, load size={load.size} mean={load.mean()}, median={load.median()}, mode={load.round().mode()}\")\n",
    "    #%%\n",
    "    '''\n",
    "    How is load distributed?\n",
    "    Why does it matter?\n",
    "    uniform, normal, exponential, weibull?\n",
    "    '''\n",
    "    '''\n",
    "    I would assume load to have normal distribution, as it is something physical sampled\n",
    "    Other distributions can have various skewnesses and kurtosis built in\n",
    "    If it is not a normal distribution I would question measurements!\n",
    "    '''\n",
    "    bins = 20\n",
    "    n, bins, patches = axs[index, 0].hist(load, bins=bins, label=name)\n",
    "#    load_hist.set_title(f\"Histogram of load distribution\")\n",
    "    load_mean, load_std = norm.fit(load)\n",
    "\n",
    "    def load_cdf(range):\n",
    "        return load.size * norm.cdf(range, load_mean, load_std)\n",
    "    \n",
    "    def plot_cdf(ax, range, cdf):\n",
    "        left = range[:-1]\n",
    "        right = range[1:]\n",
    "        ax.plot((left + right)/2, (cdf(right) - cdf(left)))\n",
    "\n",
    "    plot_cdf(axs[index, 0], bins, load_cdf)\n",
    "    #%%\n",
    "    '''\n",
    "    variance, standard deviation\n",
    "    What is the meaning of 6sigma\n",
    "    '''\n",
    "    print(f\"{name}, load var={dfa['load'].var()}, stddev={dfa['load'].std()}\")\n",
    "    #%%\n",
    "    '''\n",
    "    Other plots that can be useful \n",
    "    boxplot\n",
    "    '''\n",
    "    bins = 20\n",
    "    n, bins, patches = axs[index, 1].hist(time, bins=bins, label=name)\n",
    "    # time_hist.set_title(f\"Histogram of time distribution\")\n",
    "\n",
    "    c, loc, scale = weibull_min.fit(time)\n",
    "    \n",
    "    def time_cdf(range):\n",
    "        return time.size * weibull_min.cdf(range, c=c, loc=loc, scale=scale)\n",
    "    \n",
    "    plot_cdf(axs[index, 1], bins, time_cdf)\n",
    "    \n",
    "ax.legend()\n",
    "plt.show()\n"
   ]
  }
 ],
 "metadata": {
  "kernelspec": {
   "display_name": "Python 3",
   "language": "python",
   "name": "python3"
  },
  "language_info": {
   "codemirror_mode": {
    "name": "ipython",
    "version": 2
   },
   "file_extension": ".py",
   "mimetype": "text/x-python",
   "name": "python",
   "nbconvert_exporter": "python",
   "pygments_lexer": "ipython2",
   "version": "2.7.6"
  }
 },
 "nbformat": 4,
 "nbformat_minor": 5
}
