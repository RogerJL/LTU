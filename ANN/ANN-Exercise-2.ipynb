{
 "cells": [
  {
   "cell_type": "markdown",
   "metadata": {
    "collapsed": false
   },
   "source": [
    "<a href=\"https://colab.research.google.com/github/RogerJL/LTU/blob/main/ANN/ANN_Exercise_2.ipynb\" target=\"_parent\"><img src=\"https://colab.research.google.com/assets/colab-badge.svg\" alt=\"Open In Colab\"/></a>"
   ]
  },
  {
   "cell_type": "code",
   "metadata": {
    "collapsed": false
   },
   "outputs": [],
   "source": [
    "# D7046E Exercise 1 (ANN1)\n",
    "\n",
    "This exercise has three taks where you will deepen your understanding of how artificial neural networks (ANNs) are implemented and trained. First, you will represent digits on an eight-segment display as vectors and hard-code perceptrons that classifies the digits. The purpose of this task is to better understand the basic computational units in ANNs and how inputs can be represented as feature vectors. Secondly, you will implement and train neural networks using [pytorch](https://pytorch.org/) on the seven-segment display data and the [MNIST](http://yann.lecun.com/exdb/mnist/) dataset which you are familiar with from Exercise 0. Finally, you will implement a neural network including the forward (inference) pass and the backward (learning) pass from scratch using numpy. After completing these steps you will know the central building blocks of ANNs.\n",
    "\n",
    "## Literature\n",
    "Before starting with the implementation you should familiarize yourself with two additional chapters in the [deep learning book](https://www.deeplearningbook.org/). This will help you understand the theory behind neural networks and what mathematical formulas are important for the task. The lectures has touched on most of these concepts. Below is a list of recommended sections from the book. If you feel familiar with the contents of these sections, feel free to skip it.\n",
    "\n",
    "* Chapter 6 - Deep feedforward networks\n",
    "    - Section 6.0 - Discusses what do we mean by feedfoward networks and terminology such as input layer, output layer and hidden layer.\n",
    "    - Section 6.2 - Discusses what gradient based learning is and what cost functions are.\n",
    "    - Section 6.5 - Explains back propagation. Important here are the formulas 6.49 - 6.52.\n",
    "* Chapter 8 - Optimization for Training Deep Models\n",
    "    - Section 8.1.3 - Presents differences between batch (deterministic) and mini-batch (stochastic) algorithms.\n",
    "\n",
    "## Libraries\n",
    "\n",
    "Before starting with the implementations you need to import the following libraries."
   ]
  },
  {
   "cell_type": "raw",
   "metadata": {
    "collapsed": false
   },
   "source": [
    "# Welcome to NNLM Exercise ANN2\n",
    "\n",
    "This exercise is split into three parts:\n",
    "- In part 1, you will learn the fundamentals of RNNs\n",
    "- In part 2, you will implement a basic RNN yourselves using numpy\n",
    "- In part 3, you will implement an LSTM using pytorch\n",
    "\n",
    "In this exercise you'll explore recurrent neural networks (RNNs), and some basic natural language processing (NLP). More specifically, your task will be to design an RNN from scratch using only numpy, similar to task 3 in ANN1. The goal of this network is to predict the correct next character given a sequence of characters. This is a simplified version of [causal language modelling](https://huggingface.co/docs/transformers/tasks/language_modeling), which is the main objective that is used to train large language models such as the [GPT series](http://jalammar.github.io/illustrated-gpt2/).\n",
    "\n",
    "## Reading material\n",
    "Before doing this exercise, please study the ANN2 module in Canvas and read Chapter 10 in the Deep Learning book, especially 10.2.2. If you want to learn more details about RNNs, we recommend [Andrej Karpathy's blog post](http://karpathy.github.io/2015/05/21/rnn-effectiveness/) and [this lecture](https://www.youtube.com/watch?v=0LixFSa7yts) and [this lecture](https://www.youtube.com/watch?v=6niqTuYFZLQ)."
   ]
  },
  {
   "cell_type": "markdown",
   "metadata": {},
   "source": [
    "# Part 1 - RNN theory\n",
    "## What is an RNN?\n",
    "An RNN is a neural network just like the network you designed in ANN1, but with two important distinctions:\n",
    "1) It iteratively produces outputs based on both inputs and previous (recurrent) outputs using shared parameters across time steps\n",
    "2) It employs a \"hidden state\" that is iteratively computed and updated in each forward pass (the hidden state is not a trainable parameter)\n",
    "\n",
    "### Sequence to sequence data\n",
    "RNNs are used mainly for sequential data, i.e. data arranged in sequences where order matters. Typically, this is either time series data, such as weather forecasts or stock markets, or in NLP due to the sequential nature of language. The sequence-to-sequence (seq2seq) image below showcases a comprehensive example of ways sequential data can flow through an RNN.\n",
    "\n",
    "![Seq2seq](http://karpathy.github.io/assets/rnn/diags.jpeg)\n",
    "\n",
    "The leftmost rectangle is a normal feedforward network without RNNs, e.g. your digit predictor from ANN1. <br>\n",
    "The \"one to many\" rectangle takes one input (non-sequential) and produces a sequence of output, e.g. image captioning which takes one image and produces a sequence of text in response. <br>\n",
    "\"many to one\" is the opposite of image captioning, and can be for instance image generatino, where a sequence of text is processed to produce one image. A simpler example is language classification tasks such as sentiment analysis. <br>\n",
    "Finally, there are two examples of \"many to many\". The first example reads the entire input before producing an output, commonly seen in machine translation, where the model reads the whole text in one language to produce a hidden state that represents the latent meaning of the text, then decodes the hidden state to the translated language. The other example of many to many is synced, where each input requires one output in response, such as video frame classification."
   ]
  },
  {
   "cell_type": "markdown",
   "metadata": {},
   "source": [
    "**Exercise**: Briefly describe two major challenges and drawbacks with running a standard feed forward ANN (like the one from ANN1) on sequential data"
   ]
  },
  {
   "cell_type": "markdown",
   "metadata": {},
   "source": [
    "Write your answer here:\n"
   ]
  },
  {
   "cell_type": "markdown",
   "metadata": {},
   "source": []
  },
  {
   "cell_type": "markdown",
   "metadata": {},
   "source": [
    "## RNN structure\n",
    "\n",
    "![rnn-unroll image](https://upload.wikimedia.org/wikipedia/commons/b/b5/Recurrent_neural_network_unfold.svg)\n",
    "\n",
    "The above image explains the basics of an RNN quite well. Looking at the time-unfolded representation to the right, you'll see how the time-sequential data $x$ is transformed to the outputs $o$. The trainable parameters, the weight matrices in the network that you're building, consist of $U$, $V$, and $W$, where \n",
    "\n",
    "\n",
    "- $U$ defines the connections between the input sample $x_t$ and the current hidden state $h_t$\n",
    "- $V$ defines the connections between the previous hidden state $h_{t-1}$ and $h_t$, and \n",
    "- $W$ defines the connections between the hidden state $h_t$ and the output $o_t$.\n",
    "\n",
    "\n",
    "Note that, as per the seq2seq image above, all parameters are not always used in every time step."
   ]
  },
  {
   "cell_type": "markdown",
   "metadata": {},
   "source": [
    "This network can thus be represented mathematically as follows:\n",
    "\\begin{equation*}\n",
    "h_t = f(U\\,{x_t} + V\\,{h_{t-1}})\n",
    "\\tag{1}\n",
    "\\end{equation*}\n",
    "\n",
    "\\begin{equation*}\n",
    "o_t = \\mathrm{softmax}(W\\,{h_t})\n",
    "\\tag{2}\n",
    "\\end{equation*}\n"
   ]
  },
  {
   "cell_type": "markdown",
   "metadata": {},
   "source": [
    "### A forward pass through an RNN\n",
    "- Let's start at $t = 0$ and take two steps through this netowrk. <br>\n",
    "- Initialise the hidden state h_init with zeros or randomly, $dims: [hidden\\_size, 1]$. <br>\n",
    "- Also initialise the parameters $U$, $V$, and $W$, again with zeros or randomly, since our network is not trained yet.\n",
    "  - $U$ transforms the input to a hidden state contribution $input\\_dim \\rightarrow hidden\\_size$.\n",
    "  - $V$ updates the hidden state $hidden\\_size \\rightarrow hidden\\_size$.\n",
    "  - $W$ transforms the hidden state to the output $hidden\\_size \\rightarrow output\\_dim$. <br>\n",
    "- First, compute the hidden state $h_0$ as a function of $x_0*U$ and $h_{init} * V$. <br>\n",
    "- Then, compute $o_0$ as a function of $h_0$ and $W$. <br>\n",
    "- Then, for the next time step, compute $h_1$ as a function of $x_1*U$ and $h_0*V$. <br>\n",
    "- Finally, compute $o_1$ based on $h_1*W$.<br>\n",
    "- Note that the parameters $U$, $V$ and $W$ remain the same for each iteration. This is because the passing of the sequential data through the same network, as seen to the left of the image, which can be conceptualised as a network with shared weights, as in the right image. <br>\n",
    "- Important: the hidden state $h$ is not learned, but produced during the recurrence. The weights to update the hidden state are learned however."
   ]
  },
  {
   "cell_type": "code",
   "execution_count": 0,
   "metadata": {
    "ExecuteTime": {
     "end_time": "2024-02-11T19:04:47.101128800Z",
     "start_time": "2024-02-11T19:04:47.070129700Z"
    },
    "collapsed": false
   },
   "outputs": [],
   "source": []
  },
  {
   "cell_type": "code",
   "execution_count": 1,
   "metadata": {
    "ExecuteTime": {
     "end_time": "2024-02-11T19:04:50.686323800Z",
     "start_time": "2024-02-11T19:04:47.533708600Z"
    },
    "collapsed": false
   },
   "outputs": [
    {
     "name": "stdout",
     "output_type": "stream",
     "text": [
      "big bang\n",
      "y_pred[-1] [[0. 1.]]\n",
      "loss [0.9999999]\n"
     ]
    },
    {
     "ename": "UnboundLocalError",
     "evalue": "cannot access local variable 'V_d' where it is not associated with a value",
     "output_type": "error",
     "traceback": [
      "\u001b[0;31m---------------------------------------------------------------------------\u001b[0m",
      "\u001b[0;31mUnboundLocalError\u001b[0m                         Traceback (most recent call last)",
      "Cell \u001b[0;32mIn[1], line 112\u001b[0m\n\u001b[1;32m    110\u001b[0m \u001b[38;5;28mprint\u001b[39m(\u001b[38;5;124m\"\u001b[39m\u001b[38;5;124my_pred[-1]\u001b[39m\u001b[38;5;124m\"\u001b[39m, y_pred[\u001b[38;5;241m-\u001b[39m\u001b[38;5;241m1\u001b[39m])\n\u001b[1;32m    111\u001b[0m \u001b[38;5;28mprint\u001b[39m(\u001b[38;5;124m\"\u001b[39m\u001b[38;5;124mloss\u001b[39m\u001b[38;5;124m\"\u001b[39m, loss)\n\u001b[0;32m--> 112\u001b[0m U_d, V_d, W_d \u001b[38;5;241m=\u001b[39m backward(loss_d, U, V, W, x, h)\n\u001b[1;32m    113\u001b[0m U \u001b[38;5;241m-\u001b[39m\u001b[38;5;241m=\u001b[39m lr \u001b[38;5;241m*\u001b[39m U_d\n\u001b[1;32m    114\u001b[0m V \u001b[38;5;241m-\u001b[39m\u001b[38;5;241m=\u001b[39m lr \u001b[38;5;241m*\u001b[39m V_d\n",
      "Cell \u001b[0;32mIn[1], line 99\u001b[0m, in \u001b[0;36mbackward\u001b[0;34m(loss_d, U, V, W, x, h)\u001b[0m\n\u001b[1;32m     95\u001b[0m g \u001b[38;5;241m=\u001b[39m W\u001b[38;5;241m.\u001b[39mT \u001b[38;5;241m@\u001b[39m g\n\u001b[1;32m     97\u001b[0m \u001b[38;5;28;01mfor\u001b[39;00m t \u001b[38;5;129;01min\u001b[39;00m \u001b[38;5;28mrange\u001b[39m(\u001b[38;5;241m2\u001b[39m, \u001b[38;5;241m0\u001b[39m, \u001b[38;5;241m-\u001b[39m\u001b[38;5;241m1\u001b[39m):\n\u001b[1;32m     98\u001b[0m     \u001b[38;5;66;03m# activator = I\u001b[39;00m\n\u001b[0;32m---> 99\u001b[0m     V_d \u001b[38;5;241m+\u001b[39m\u001b[38;5;241m=\u001b[39m g \u001b[38;5;241m@\u001b[39m h[t \u001b[38;5;241m-\u001b[39m \u001b[38;5;241m1\u001b[39m]\n\u001b[1;32m    100\u001b[0m     U_d \u001b[38;5;241m+\u001b[39m\u001b[38;5;241m=\u001b[39m g \u001b[38;5;241m@\u001b[39m x[t \u001b[38;5;241m-\u001b[39m \u001b[38;5;241m1\u001b[39m]\n\u001b[1;32m    101\u001b[0m     g \u001b[38;5;241m=\u001b[39m V\u001b[38;5;241m.\u001b[39mT \u001b[38;5;241m@\u001b[39m g\n",
      "\u001b[0;31mUnboundLocalError\u001b[0m: cannot access local variable 'V_d' where it is not associated with a value"
     ]
    }
   ],
   "source": [
    "import jax.random\n",
    "import jax.numpy as jnp\n",
    "\n",
    "def softmax(y_pred, axis=0):\n",
    "  y_max = jnp.max(y_pred, axis=axis)\n",
    "  z = jnp.subtract(y_pred.T, y_max).T  # for numerical stability\n",
    "  z_exp = jnp.exp(z)\n",
    "  z_exp_sum = jnp.sum(z_exp, axis=axis)\n",
    "  return (z_exp.T / z_exp_sum).T\n",
    "\n",
    "def binary_cross_entropy(y_pred, y_true, axis=0):\n",
    "    \"\"\" Computes binary cross entropy between two distributions.\n",
    "    Input: y_pred: iterable of N non-negative values\n",
    "           y_true: iterable of N non-negative values\n",
    "    Returns: scalar\n",
    "    \"\"\"\n",
    "\n",
    "    # Force to proper probability mass function.\n",
    "    y_true = jnp.array(y_true, dtype=jnp.float32)\n",
    "    y_pred = jnp.array(y_pred, dtype=jnp.float32)\n",
    "\n",
    "    if jnp.any(y_true < 0) or jnp.any(y_pred < 0):\n",
    "        raise ValueError('Negative values exist.')\n",
    "\n",
    "    # Ignore zero 'y' elements.\n",
    "    multiply_1 = jnp.multiply(y_true, jnp.log(jnp.where(y_pred > 0, y_pred, jnp.exp(-1))))\n",
    "    multiply_0 = jnp.multiply((1 - y_true), jnp.log(jnp.where((1 - y_pred) > 0, 1 - y_pred, jnp.exp(-1))))\n",
    "\n",
    "    # Categorical Cross-Entropy Loss\n",
    "    # https://towardsdatascience.com/derivative-of-the-softmax-function-and-the-categorical-cross-entropy-loss-ffceefc081d1\n",
    "    loss_d = y_pred - y_true  # Note: y_pred is limited by softmax\n",
    "\n",
    "    return -(multiply_1 + multiply_0).mean(axis=axis), loss_d\n",
    "\n",
    "\n",
    "# Let's start at $t = 0$ and take two steps through this network. <br>\n",
    "t = 0.0\n",
    "\n",
    "prng = jax.random.PRNGKey(13)\n",
    "prn, rng1, rng2, rng3, rng4, rng5 = jax.random.split(prng, 6) \n",
    "\n",
    "# Initialise the hidden state h_init with zeros or randomly, $dims: [hidden\\_size, 1]$. <br>\n",
    "H_SHAPE = (1, 4)\n",
    "Y_SHAPE = (1, 2)\n",
    "X_SHAPE = (2, 1, 3)\n",
    "F_SHAPE = H_SHAPE\n",
    "h_init = jax.random.normal(rng1, shape=H_SHAPE)\n",
    "\n",
    "# Also initialise the parameters $U$, $V$, and $W$, again with zeros or randomly, since our network is not trained yet.\n",
    "\n",
    "#  - $U$ transforms the input to a hidden state contribution $input\\_dim \\rightarrow hidden\\_size$.\n",
    "U = jax.random.normal(rng2, shape=(F_SHAPE[1], X_SHAPE[2]))\n",
    "\n",
    "#  - $V$ updates the hidden state $hidden\\_size \\rightarrow hidden\\_size$.\n",
    "V = jax.random.normal(rng3, shape=(F_SHAPE[1], H_SHAPE[1]))\n",
    "\n",
    "#  - $W$ transforms the hidden state to the output $hidden\\_size \\rightarrow output\\_dim$. <br>\n",
    "W = jax.random.normal(rng4, shape=(Y_SHAPE[1], H_SHAPE[1]))\n",
    "\n",
    "# X input\n",
    "x = jax.random.normal(rng5, shape=X_SHAPE)\n",
    "\n",
    "def activator(v: jax.Array) -> jax.Array:\n",
    "    \"\"\"Transform calculation result into new h\"\"\"\n",
    "    return v\n",
    "\n",
    "def forward(U, V, W, x, h_init):\n",
    "    y_pred = []\n",
    "    h = [h_init]\n",
    "    for t in range(1, 3):\n",
    "        # First, compute the hidden state $h_0$ as a function of $x_0*U$ and $h_{init} * V$. <br>\n",
    "#        print(\"x @ U.T\", x[t].shape, U.T.shape)\n",
    "#        print(\"h @ V.T\", h[t-1].shape, V.T.shape)\n",
    "        h.append(activator(x[t] @ U.T + h[t - 1] @ V.T))\n",
    "        # Then, compute $o_0$ as a function of $h_0$ and $W$. <br>\n",
    "\n",
    "#        print(\"h @ W.T\", h[t].shape, W.T.shape)\n",
    "        y_pred.append(softmax(h[t] @ W.T, axis=1))\n",
    "        # Then, for the next time step, compute $h_1$ as a function of $x_1*U$ and $h_0*V$. <br>\n",
    "        # Finally, compute $o_1$ based on $h_1*W$.<br>\n",
    "    return y_pred, h\n",
    "    \n",
    "\n",
    "# Note that the parameters $U$, $V$ and $W$ remain the same for each iteration. This is because the passing of the sequential data through the same network, as seen to the left of the image, which can be conceptualised as a network with shared weights, as in the right image. <br>\n",
    "# Important: the hidden state $h$ is not learned, but produced during the recurrence. The weights to update the hidden state are learned however.\n",
    "\n",
    "# Backward\n",
    "def backward(loss_d, U, V, W, x, h):\n",
    "    U_dx = jnp.zeros_like(U)\n",
    "    V_dh = jnp.zeros_like(V)\n",
    "    W_d = jnp.zeros_like(W)\n",
    "    g = loss_d.T\n",
    "    # Output step\n",
    "    W_d += g @ h[-1]\n",
    "    g = W.T @ g\n",
    "\n",
    "    for t in range(2, 0, -1):\n",
    "        # activator = I\n",
    "        V_d += g @ h[t - 1]\n",
    "        U_d += g @ x[t - 1]\n",
    "        g = V.T @ g\n",
    "    return U_d, V_d, W_d\n",
    "\n",
    "# Calculate loss\n",
    "print(\"big bang\")\n",
    "lr = 1e-3\n",
    "while True:\n",
    "    y_pred, h = forward(U, V, W, x, h_init)\n",
    "    loss, loss_d = binary_cross_entropy(y_pred[-1], [[1, 0]], axis=1)\n",
    "    print(\"y_pred[-1]\", y_pred[-1])\n",
    "    print(\"loss\", loss)\n",
    "    U_d, V_d, W_d = backward(loss_d, U, V, W, x, h)\n",
    "    U -= lr * U_d\n",
    "    V -= lr * V_d\n",
    "    W -= lr * W_d"
   ]
  },
  {
   "cell_type": "markdown",
   "metadata": {},
   "source": [
    "## How to train RNNs?\n",
    "\n",
    "Well, you have to backpropagate through time, which thankfully is not as complicated as it sounds. <br>\n",
    "The final loss between output $o_N$ and label $y_N$ will be a function not only of $x_N$, but of $h_N$. But $h_N$ is a function of $x_{N-1}$ and $h_{N-1}$, which is a function of ... <br>\n",
    "You get the point, the longer the sequence in our network, the longer you have to roll back. <br>\n",
    "\n",
    "### How to backpropagate through time?\n",
    "\n",
    "It's not actually that much different compared to ANN1 if you do it step by step. Starting with the last output, $o_N$ in this case, compute the loss. Then backpropagate from loss to $o_N$, i.e. the derivate of the loss function. Then it is simple to calculate the contribution of $W$ to this loss, i.e. $dL/dW$. This is the contribution of $o_N$ to $W_{grad}$. Save this, but don't update yet! <br>\n",
    "Next, backpropagate into $h_N$, similar to backpropagating into the activation function of $w_1$ in ANN1. Compute $dL/dh_N$, then also backprop through the activation function, as in ANN1. <br>\n",
    "Think of these two steps as going backwards from the last output through $W$ to the last hidden state in the image above. \n",
    "\n",
    "Now, you're inside the hidden state, and you have to backprop in two directions. First, compute $dL/dU$, i.e. follow the $U$ arrow back to the input. <br>\n",
    "Then, compute $dL/dV$, i.e. the contribution of the V parameter to the loss, following the arrow back towards the previous hidden state. Howver, you're not quite done yet, as you also want to compute the contribution of the previous hidden state to the loss, i.e. $dL/dh_{prev}$. Save this for next iteration. <br>\n",
    "Take one time step back, and repeat the process, until you're at $t_0$. <br>\n",
    "\n",
    "### But how does this process take time into account?\n",
    "\n",
    "Note the last derivate you computed, $dL/dh_{prev}$. By solving the partial derivatives you'll find that when computing $dL/dh_{N}$, you relied on the \"fake\" hidden state not yet computed, $dL/dh_{prev}$, which you should initialise to zeros for the first (i.e. last) time step in the backprop. When you compute $dL/dh_{N-1}$ coming from $o_{N-1}$ and $W$, you must include $dL/dh_{prev}$, which this time won't be zero, and corresponds to the backwards movement through time."
   ]
  },
  {
   "cell_type": "markdown",
   "metadata": {},
   "source": [
    "# Part 2 - Implementing an RNN\n"
   ]
  },
  {
   "cell_type": "markdown",
   "metadata": {},
   "source": [
    "##  Import packages\n",
    "First, import some packages. We've put all support functions in another file to make the main notebook more readable. If you're interested in how data is loaded and processed, and some very basic NLP, feel free to have a look in the ANN2_support_functions.py file."
   ]
  },
  {
   "cell_type": "code",
   "execution_count": 2,
   "metadata": {
    "ExecuteTime": {
     "end_time": "2024-02-11T19:04:53.113923700Z",
     "start_time": "2024-02-11T19:04:51.530324Z"
    }
   },
   "outputs": [],
   "source": [
    "import numpy as np\n",
    "\n",
    "import ANN2_support_functions\n",
    "from importlib import reload\n",
    "reload(ANN2_support_functions)\n",
    "from ANN2_support_functions import set_up_datasets, init_orthogonal, one_hot_encode, one_hot_encode_sequence, sequences_to_dicts, set_up_sequences, clip_gradient_norm"
   ]
  },
  {
   "cell_type": "markdown",
   "metadata": {},
   "source": [
    "## Set up data\n",
    "Let's load the data from the support functions. You'll be using two datasets for this task. First, a \"toy\" dataset with simple generated sequences. The function returns four variables: <br>\n",
    "sequence, which is a list of sequences of characters. The sequences have varying length. <br>\n",
    "char_to_idx, a dict that converts a character to an index. <br>\n",
    "idx_to_char, a dict that converts an index to a character. <br>\n",
    "num_sequences, the number of the sequences"
   ]
  },
  {
   "cell_type": "code",
   "execution_count": 3,
   "metadata": {
    "ExecuteTime": {
     "end_time": "2024-02-11T19:04:53.322926600Z",
     "start_time": "2024-02-11T19:04:53.268927Z"
    }
   },
   "outputs": [
    {
     "name": "stdout",
     "output_type": "stream",
     "text": [
      "A sentence from the generated dataset:\n",
      "['a', 'a', 'a', 'a', 'a', 'a', 'a', 'b', 'b', 'b', 'b', 'b', 'b', 'b', 'EOS']\n",
      "There are 100 sentences and 4 unique tokens in our dataset (including UNK).\n",
      "\n",
      "The index of 'b' is 1\n",
      "The char corresponding to index 1 is 'b'\n",
      "We have 80 samples in the training set.\n",
      "We have 10 samples in the validation set.\n",
      "We have 10 samples in the test set.\n"
     ]
    }
   ],
   "source": [
    "sequences, char_to_idx, idx_to_char, num_sequences, vocab_size = set_up_sequences('toy')\n",
    "print('A sentence from the generated dataset:')\n",
    "print(sequences[0])\n",
    "\n",
    "print(f'There are {num_sequences} sentences and {len(char_to_idx)} unique tokens in our dataset (including UNK).\\n')\n",
    "print('The index of \\'b\\' is', char_to_idx['b'])\n",
    "print(f'The char corresponding to index 1 is \\'{idx_to_char[1]}\\'')\n",
    "\n",
    "training_set, validation_set, test_set = set_up_datasets(sequences)"
   ]
  },
  {
   "cell_type": "markdown",
   "metadata": {},
   "source": [
    "## Initialising the network\n",
    "Recall the RNN structure from part 1 and use this knowledge to finish the code for network initialisation.\n",
    "\n",
    "**Exercise**: Finish the init_network function below to set up the trainable parameters"
   ]
  },
  {
   "cell_type": "code",
   "execution_count": 4,
   "metadata": {
    "ExecuteTime": {
     "end_time": "2024-02-11T19:04:55.750922300Z",
     "start_time": "2024-02-11T19:04:55.699925600Z"
    }
   },
   "outputs": [],
   "source": [
    "def init_network(hidden_size, vocab_size):\n",
    "    \"\"\"\n",
    "    Initialises the RNN parameters\n",
    "    \n",
    "    Args:\n",
    "    `hidden_size`: the dimensions of the hidden state\n",
    "    `vocab_size`: the dimensions of our vocabulary\n",
    "    \"\"\"\n",
    "    X_ = 4\n",
    "    H_ = hidden_size\n",
    "    Y_ = vocab_size\n",
    "    # Weight matrix (input to hidden state)\n",
    "    # What is the shape of the input and output for this node?\n",
    "    # TODO:\n",
    "    U = np.zeros((H_, X_))\n",
    "\n",
    "    # Weight matrix (recurrent computation)\n",
    "    # What is the shape of the input and output for this node?\n",
    "    # TODO:\n",
    "    V = np.zeros((H_, H_))\n",
    "\n",
    "    # Weight matrix (hidden state to output)\n",
    "    # What is the shape of the input and output for this node?\n",
    "    # TODO:\n",
    "    W = np.zeros((Y_, H_))\n",
    "\n",
    "    # Bias (hidden state)\n",
    "    # What is the shape of the input to this node?\n",
    "    # TODO:\n",
    "    b_hidden = np.zeros((H_, 1))\n",
    "\n",
    "    # Bias (output)\n",
    "    # What is the shape of the input to this node?\n",
    "    # TODO:\n",
    "    b_out = np.zeros((Y_, 1))\n",
    "    \n",
    "    # Initialize weights\n",
    "    # You don't have to change anything here\n",
    "    # Think of it as a better way of doing np.random.rand()\n",
    "    U = init_orthogonal(U)\n",
    "    V = init_orthogonal(V)\n",
    "    W = init_orthogonal(W)\n",
    "\n",
    "    \n",
    "    parameters = U, V, W, b_hidden, b_out\n",
    "\n",
    "    return parameters"
   ]
  },
  {
   "cell_type": "code",
   "execution_count": 5,
   "metadata": {
    "ExecuteTime": {
     "end_time": "2024-02-11T19:04:56.535923100Z",
     "start_time": "2024-02-11T19:04:56.511923Z"
    }
   },
   "outputs": [],
   "source": [
    "# Checking the init runs\n",
    "\n",
    "hidden_size = 50 # Number of dimensions in the hidden state\n",
    "vocab_size  = vocab_size # Size of the vocabulary used\n",
    "\n",
    "parameters = init_network(hidden_size=hidden_size, vocab_size=vocab_size)\n"
   ]
  },
  {
   "cell_type": "markdown",
   "metadata": {},
   "source": [
    "## The forward pass\n",
    "Here you will implement the forward pass. You'll be using tanh as the activation function for the hidden state update (eq. 1), and softmax as the activation function for the output (eq. 2)."
   ]
  },
  {
   "cell_type": "code",
   "execution_count": 35,
   "metadata": {
    "ExecuteTime": {
     "end_time": "2024-02-11T21:01:42.142969400Z",
     "start_time": "2024-02-11T21:01:42.086971600Z"
    }
   },
   "outputs": [],
   "source": [
    "def tanh(x, derivative=False):\n",
    "    \"\"\"\n",
    "    Computes the element-wise tanh activation function for an array x.\n",
    "\n",
    "    Args:\n",
    "     `x`: the array where the function is applied\n",
    "     `derivative`: if set to True will return the backward (y) derivative instead of the forward pass\n",
    "    \"\"\"\n",
    "    # Avoid division with zeros\n",
    "    x = x + 1e-12\n",
    "    # The tanh function\n",
    "    a_x = (np.exp(x)-np.exp(-x))/(np.exp(x)+np.exp(-x))\n",
    "    \n",
    "    if derivative: # Return the derivative of the function evaluated at x\n",
    "        return 1-a_x**2\n",
    "    else: # Return the forward pass of the function at x\n",
    "        return a_x\n",
    "\n",
    "def d_tanh(y):\n",
    "    \"\"\"Computes the element-wise derivate of tanh at y (output value)\"\"\"\n",
    "    return 1-y**2\n",
    "\n",
    "# Remarcable forgotten math...\n",
    "y = tanh(0.5)\n",
    "dy1 = tanh(0.5, derivative=True)\n",
    "dy2 = d_tanh(y)\n",
    "assert dy1 == dy2\n",
    "\n",
    "\n",
    "\n",
    "def softmax(x):\n",
    "    \"\"\"\n",
    "    Computes the softmax for an array x.\n",
    "    \n",
    "    Args:\n",
    "     `x`: the array where the function is applied\n",
    "    \"\"\"\n",
    "    # Avoid division with zeros\n",
    "    x = x + 1e-12\n",
    "    # The softmax function\n",
    "    a_x = np.exp(x) / np.sum(np.exp(x))\n",
    "    return a_x"
   ]
  },
  {
   "cell_type": "markdown",
   "metadata": {},
   "source": [
    "**Exercise:** Finish the code for the forward pass"
   ]
  },
  {
   "cell_type": "code",
   "execution_count": 74,
   "metadata": {
    "ExecuteTime": {
     "end_time": "2024-02-11T22:43:09.827483800Z",
     "start_time": "2024-02-11T22:43:09.786478600Z"
    }
   },
   "outputs": [],
   "source": [
    "\n",
    "def forward_pass(inputs, hidden_state, parameters):\n",
    "    \"\"\"\n",
    "    Computes the forward pass of a vanilla RNN.\n",
    "    \n",
    "    Args:\n",
    "    `inputs`: sequence of inputs to be processed\n",
    "    `hidden_state`: an already initialized hidden state\n",
    "    `parameters`: the parameters of the RNN\n",
    "    \"\"\"\n",
    "    # First unpack parameters\n",
    "    U, V, W, b_hidden, b_out = parameters\n",
    "    \n",
    "    # Create a list to store outputs and hidden states\n",
    "    outputs, hidden_states = [], [hidden_state]\n",
    "\n",
    "    # For each element in input sequence\n",
    "    for t in range(len(inputs)):\n",
    "\n",
    "        # Compute new hidden state\n",
    "        # Hint: look at eq. 1\n",
    "        hidden_state = tanh(U @ inputs[t]\n",
    "                            + V @ hidden_states[t]  # actually hidden_states[t - 1]\n",
    "                            + b_hidden)\n",
    "\n",
    "        # Compute output\n",
    "        # Hint: Look at eq. 2\n",
    "        out = softmax(W @ hidden_state + b_out)\n",
    "        \n",
    "        # Save results and continue\n",
    "        outputs.append(out)\n",
    "        hidden_states.append(hidden_state.copy())\n",
    "    \n",
    "    return outputs, hidden_states"
   ]
  },
  {
   "cell_type": "code",
   "execution_count": 8,
   "metadata": {
    "ExecuteTime": {
     "end_time": "2024-02-11T19:05:01.514837700Z",
     "start_time": "2024-02-11T19:05:01.458836700Z"
    }
   },
   "outputs": [
    {
     "name": "stdout",
     "output_type": "stream",
     "text": [
      "Input sequence:\n",
      "['a', 'a', 'a', 'a', 'a', 'a', 'a', 'b', 'b', 'b', 'b', 'b', 'b', 'b']\n",
      "\n",
      "Target sequence:\n",
      "['a', 'a', 'a', 'a', 'a', 'a', 'b', 'b', 'b', 'b', 'b', 'b', 'b', 'EOS']\n",
      "\n",
      "Predicted sequence:\n",
      "['UNK', 'UNK', 'UNK', 'b', 'a', 'a', 'a', 'a', 'a', 'a', 'a', 'EOS', 'EOS', 'b']\n"
     ]
    }
   ],
   "source": [
    "# Checking the forward pass\n",
    "\n",
    "# Get first sequence in training set\n",
    "test_input_sequence, test_target_sequence = training_set[0]\n",
    "\n",
    "# One-hot encode input and target sequence\n",
    "test_input = one_hot_encode_sequence(test_input_sequence, vocab_size, char_to_idx)\n",
    "test_target = one_hot_encode_sequence(test_target_sequence, vocab_size, char_to_idx)\n",
    "\n",
    "# Initialize hidden state as zeros\n",
    "hidden_state = np.zeros((hidden_size, 1))\n",
    "\n",
    "# Now let's try out our new function\n",
    "outputs, hidden_states = forward_pass(test_input, hidden_state, parameters)\n",
    "\n",
    "print('Input sequence:')\n",
    "print(test_input_sequence)\n",
    "\n",
    "print('\\nTarget sequence:')\n",
    "print(test_target_sequence)\n",
    "\n",
    "print('\\nPredicted sequence:')\n",
    "print([idx_to_char[np.argmax(output)] for output in outputs])"
   ]
  },
  {
   "cell_type": "markdown",
   "metadata": {},
   "source": [
    "## The backward pass"
   ]
  },
  {
   "cell_type": "code",
   "execution_count": 86,
   "metadata": {
    "ExecuteTime": {
     "end_time": "2024-02-12T07:56:45.254376800Z",
     "start_time": "2024-02-12T07:56:45.248377Z"
    }
   },
   "outputs": [],
   "source": [
    "def backward_pass(inputs, outputs, hidden_states, targets, parameters):\n",
    "    \"\"\"\n",
    "    Computes the backward pass of a vanilla RNN.\n",
    "    \n",
    "    Args:\n",
    "     `inputs`: sequence of inputs to be processed\n",
    "     `outputs`: sequence of outputs from the forward pass\n",
    "     `hidden_states`: sequence of hidden_states from the forward pass\n",
    "     `targets`: sequence of targets\n",
    "     `params`: the parameters of the RNN\n",
    "    \"\"\"\n",
    "    # First unpack parameters\n",
    "    U, V, W, b_hidden, b_out = parameters\n",
    "    \n",
    "    # Initialize gradients as zero\n",
    "    d_U, d_V, d_W = np.zeros_like(U), np.zeros_like(V), np.zeros_like(W)\n",
    "    d_b_hidden, d_b_out = np.zeros_like(b_hidden), np.zeros_like(b_out)\n",
    "    \n",
    "    # Keep track of hidden state derivative and loss\n",
    "    loss = 0\n",
    "    \n",
    "    # For each element in output sequence\n",
    "    # iterate backwards over t -> t = N, N-1, ... 1, 0\n",
    "    assert len(outputs) == len(targets)\n",
    "    assert len(hidden_states) == len(targets) + 1\n",
    "    H_OFFSET = 1\n",
    "    for t in reversed(range(len(outputs))):\n",
    "\n",
    "        # Compute cross-entropy loss\n",
    "        loss += -np.mean(np.log(outputs[t] + 1e-12) * targets[t])\n",
    "        \n",
    "        # Backpropagate into output (derivative of cross-entropy and softmax)\n",
    "        # dL/do cancels out all annoying parts of dL/dz * dz/do into a simple function\n",
    "        # please see https://towardsdatascience.com/derivative-of-the-softmax-function-and-the-categorical-cross-entropy-loss-ffceefc081d1\n",
    "        # for more details\n",
    "        d_o = outputs[t].copy()\n",
    "        d_o[np.argmax(targets[t])] -= 1  # this is now error\n",
    "\n",
    "        # Initial hidden state is stored first in hidden_states\n",
    "        hidden_state = hidden_states[t + H_OFFSET]\n",
    "        hidden_state_prev = hidden_states[t + H_OFFSET - 1]\n",
    "        \n",
    "        # Backpropagate into bias\n",
    "        d_b_out += d_o  # 10.22\n",
    "\n",
    "        diag_d_tanh_h = np.diag(d_tanh(hidden_state.squeeze()))\n",
    "\n",
    "        # Backpropagate into bias\n",
    "        d_h = W.T @ d_o\n",
    "        d_b_hidden += diag_d_tanh_h @ d_h        # 10.23\n",
    "\n",
    "        # Backpropagate into W\n",
    "        d_W += d_o @ hidden_state.T  # 10.24\n",
    "\n",
    "        # Backpropagate into V\n",
    "#        print(\"d_V = diag_d_tanh_h @ hidden_state_prev.T\", d_V.shape, diag_d_tanh_h.shape, d_h.shape, hidden_states[t-1].T.shape)\n",
    "        d_V += diag_d_tanh_h @ d_h @ hidden_state_prev.T  # 10.25, 10.26\n",
    "        \n",
    "        # Backpropagate into U\n",
    "#        print(\"d_U = diag_d_tanh_h @ inputs[t].T\", d_U.shape, diag_d_tanh_h.shape, d_h.shape, inputs[t-1].T.shape)\n",
    "        d_U += diag_d_tanh_h @ d_h @ inputs[t].T  # 10.27, 10.28\n",
    "\n",
    "    # Pack gradients\n",
    "    grads = d_U, d_V, d_W, d_b_hidden, d_b_out    \n",
    "    \n",
    "    # Clip gradients to prevent explosions\n",
    "    grads = clip_gradient_norm(grads)\n",
    "    \n",
    "    return loss, grads"
   ]
  },
  {
   "cell_type": "code",
   "execution_count": 84,
   "metadata": {
    "ExecuteTime": {
     "end_time": "2024-02-12T07:50:06.035943900Z",
     "start_time": "2024-02-12T07:50:06.011941600Z"
    }
   },
   "outputs": [
    {
     "ename": "AssertionError",
     "evalue": "",
     "output_type": "error",
     "traceback": [
      "\u001b[0;31m---------------------------------------------------------------------------\u001b[0m",
      "\u001b[0;31mAssertionError\u001b[0m                            Traceback (most recent call last)",
      "Cell \u001b[0;32mIn[84], line 4\u001b[0m\n\u001b[1;32m      1\u001b[0m \u001b[38;5;66;03m# Checking the backwards pass\u001b[39;00m\n\u001b[1;32m      2\u001b[0m \n\u001b[1;32m      3\u001b[0m \u001b[38;5;66;03m# Perform a backward pass\u001b[39;00m\n\u001b[0;32m----> 4\u001b[0m loss, gradients \u001b[38;5;241m=\u001b[39m backward_pass(test_input, outputs, hidden_states, test_target, parameters)\n\u001b[1;32m      6\u001b[0m \u001b[38;5;28mprint\u001b[39m(\u001b[38;5;124m'\u001b[39m\u001b[38;5;124mWe get a loss of:\u001b[39m\u001b[38;5;124m'\u001b[39m)\n\u001b[1;32m      7\u001b[0m \u001b[38;5;28mprint\u001b[39m(\u001b[38;5;124m\"\u001b[39m\u001b[38;5;124mtest_input\u001b[39m\u001b[38;5;124m\"\u001b[39m, test_input\u001b[38;5;241m.\u001b[39mT)\n",
      "Cell \u001b[0;32mIn[82], line 26\u001b[0m, in \u001b[0;36mbackward_pass\u001b[0;34m(inputs, outputs, hidden_states, targets, parameters)\u001b[0m\n\u001b[1;32m     23\u001b[0m \u001b[38;5;66;03m# For each element in output sequence\u001b[39;00m\n\u001b[1;32m     24\u001b[0m \u001b[38;5;66;03m# iterate backwards over t -> t = N, N-1, ... 1, 0\u001b[39;00m\n\u001b[1;32m     25\u001b[0m d_h_prev \u001b[38;5;241m=\u001b[39m np\u001b[38;5;241m.\u001b[39mzeros_like(b_hidden)\n\u001b[0;32m---> 26\u001b[0m \u001b[38;5;28;01massert\u001b[39;00m \u001b[38;5;28mlen\u001b[39m(outputs) \u001b[38;5;241m==\u001b[39m \u001b[38;5;28mlen\u001b[39m(targets)\n\u001b[1;32m     27\u001b[0m \u001b[38;5;28;01massert\u001b[39;00m \u001b[38;5;28mlen\u001b[39m(hidden_states) \u001b[38;5;241m==\u001b[39m \u001b[38;5;28mlen\u001b[39m(targets) \u001b[38;5;241m+\u001b[39m \u001b[38;5;241m1\u001b[39m\n\u001b[1;32m     28\u001b[0m \u001b[38;5;28;01mfor\u001b[39;00m t \u001b[38;5;129;01min\u001b[39;00m \u001b[38;5;28mreversed\u001b[39m(\u001b[38;5;28mrange\u001b[39m(\u001b[38;5;28mlen\u001b[39m(outputs))):\n\u001b[1;32m     29\u001b[0m \n\u001b[1;32m     30\u001b[0m     \u001b[38;5;66;03m# Compute cross-entropy loss\u001b[39;00m\n",
      "\u001b[0;31mAssertionError\u001b[0m: "
     ]
    }
   ],
   "source": [
    "# Checking the backwards pass\n",
    "\n",
    "# Perform a backward pass\n",
    "loss, gradients = backward_pass(test_input, outputs, hidden_states, test_target, parameters)\n",
    "\n",
    "print('We get a loss of:')\n",
    "print(\"test_input\", test_input.T)\n",
    "print(\"outputs\", jnp.array(outputs).T)\n",
    "print(\"test_target\", test_target.T)\n",
    "print(\"loss\", loss)\n",
    "print(\"gradients\", gradients)"
   ]
  },
  {
   "cell_type": "markdown",
   "metadata": {},
   "source": [
    "## The optimisation algorithm"
   ]
  },
  {
   "cell_type": "code",
   "execution_count": 12,
   "metadata": {
    "ExecuteTime": {
     "end_time": "2024-02-11T19:05:51.708431500Z",
     "start_time": "2024-02-11T19:05:51.701431300Z"
    }
   },
   "outputs": [],
   "source": [
    "def gradient_descent(parameters, gradients, lr=1e-3):\n",
    "    # Take a step\n",
    "    updated_params = []\n",
    "    for parameter, gradient in zip(parameters, gradients):\n",
    "        parameter -= lr * gradient\n",
    "        updated_params.append(parameter)\n",
    "    return updated_params"
   ]
  },
  {
   "cell_type": "code",
   "execution_count": 83,
   "metadata": {
    "ExecuteTime": {
     "end_time": "2024-02-12T07:49:53.195710Z",
     "start_time": "2024-02-12T07:49:53.134711Z"
    }
   },
   "outputs": [
    {
     "name": "stdout",
     "output_type": "stream",
     "text": [
      "parameters seem to update during backprop\n"
     ]
    }
   ],
   "source": [
    "# Check that our gradient descent works\n",
    "# Ignore all the arcane unrolling of lists. All this function does is to check that your update function actually changes the parameters\n",
    "\n",
    "# Copy old parameters so we can check that they've updated\n",
    "prev_parameters = [parameter.copy() for parameter in parameters]\n",
    "\n",
    "# Use computed gradients to update parameters\n",
    "parameters = gradient_descent(parameters, gradients, lr=3e-4)\n",
    "\n",
    "# Check that parameters have updated\n",
    "parameters_delta = [parameter - prev_parameter for parameter, prev_parameter in zip(parameters, prev_parameters)]\n",
    "\n",
    "assert all([parameter.any() for parameter in parameters_delta]), \"parameters have not updated\"\n",
    "print(\"parameters seem to update during backprop\")\n"
   ]
  },
  {
   "cell_type": "markdown",
   "metadata": {},
   "source": [
    "## Training the network\n",
    "**Exercise:** Implement all individual steps together to loop over the dataset. Train until you have a loss under 2 or an accuracy over 50%."
   ]
  },
  {
   "cell_type": "code",
   "execution_count": 87,
   "metadata": {
    "ExecuteTime": {
     "end_time": "2024-02-12T08:05:11.415452700Z",
     "start_time": "2024-02-12T07:56:51.688356500Z"
    }
   },
   "outputs": [
    {
     "name": "stdout",
     "output_type": "stream",
     "text": [
      "Epoch 0 (best 0), training loss: 3.7779072142711696, validation loss: 0.5700148940086365\n",
      "Epoch 50 (best 50), training loss: 2.1162480962379098, validation loss: 0.3909463882446289\n",
      "Epoch 100 (best 100), training loss: 1.5419736228005674, validation loss: 0.33535560965538025\n",
      "Epoch 150 (best 150), training loss: 1.3345649709309886, validation loss: 0.32330963015556335\n",
      "Epoch 200 (best 200), training loss: 1.2472390891505656, validation loss: 0.3216664791107178\n",
      "Epoch 250 (best 250), training loss: 1.2002554011822195, validation loss: 0.32058829069137573\n",
      "Epoch 300 (best 300), training loss: 1.1692129425579092, validation loss: 0.31835421919822693\n",
      "Epoch 350 (best 350), training loss: 1.144734848224023, validation loss: 0.31494826078414917\n",
      "Epoch 400 (best 400), training loss: 1.1227513866717895, validation loss: 0.3106132447719574\n",
      "Epoch 450 (best 450), training loss: 1.1014346826566324, validation loss: 0.30556556582450867\n",
      "Epoch 500 (best 500), training loss: 1.080019999004688, validation loss: 0.2999742031097412\n",
      "Epoch 550 (best 550), training loss: 1.0583731981701456, validation loss: 0.293992817401886\n",
      "Epoch 600 (best 600), training loss: 1.0368636969010452, validation loss: 0.28779181838035583\n",
      "Epoch 650 (best 650), training loss: 1.016300103766766, validation loss: 0.28157445788383484\n",
      "Epoch 700 (best 700), training loss: 0.9977613445852367, validation loss: 0.2755667567253113\n",
      "Epoch 750 (best 750), training loss: 0.9822709160299004, validation loss: 0.2699827551841736\n",
      "Epoch 800 (best 800), training loss: 0.9704302061121854, validation loss: 0.2649787962436676\n",
      "Epoch 850 (best 850), training loss: 0.96221417793036, validation loss: 0.26062116026878357\n",
      "Epoch 900 (best 900), training loss: 0.9570534159957148, validation loss: 0.25688526034355164\n",
      "Epoch 950 (best 950), training loss: 0.9541203667678004, validation loss: 0.25368744134902954\n",
      "Epoch 1000 (best 1000), training loss: 0.9526006258464752, validation loss: 0.2509241998195648\n",
      "Epoch 1050 (best 1050), training loss: 0.9518260687642165, validation loss: 0.24849823117256165\n",
      "Epoch 1100 (best 1100), training loss: 0.9512995942234876, validation loss: 0.24632807075977325\n",
      "Epoch 1150 (best 1150), training loss: 0.9506757939222853, validation loss: 0.24434860050678253\n",
      "Epoch 1200 (best 1200), training loss: 0.9497308444134882, validation loss: 0.24250929057598114\n",
      "Epoch 1250 (best 1250), training loss: 0.948332267139685, validation loss: 0.24077124893665314\n",
      "Epoch 1300 (best 1300), training loss: 0.9464123555598896, validation loss: 0.23910494148731232\n",
      "Epoch 1350 (best 1350), training loss: 0.9439470631560161, validation loss: 0.237488254904747\n",
      "Epoch 1400 (best 1400), training loss: 0.9409406374061531, validation loss: 0.2359047681093216\n",
      "Epoch 1450 (best 1450), training loss: 0.9374151754281923, validation loss: 0.23434273898601532\n",
      "Epoch 1500 (best 1500), training loss: 0.9334038222811156, validation loss: 0.23279419541358948\n",
      "Epoch 1550 (best 1550), training loss: 0.9289463863483887, validation loss: 0.23125402629375458\n",
      "Epoch 1600 (best 1600), training loss: 0.9240864335518564, validation loss: 0.22971950471401215\n",
      "Epoch 1650 (best 1650), training loss: 0.9188692434625997, validation loss: 0.22818975150585175\n",
      "Epoch 1700 (best 1700), training loss: 0.9133402712064542, validation loss: 0.22666525840759277\n",
      "Epoch 1750 (best 1750), training loss: 0.9075439358352317, validation loss: 0.22514748573303223\n",
      "Epoch 1800 (best 1800), training loss: 0.9015226587762543, validation loss: 0.2236386090517044\n",
      "Epoch 1850 (best 1850), training loss: 0.8953161258460272, validation loss: 0.22214093804359436\n",
      "Epoch 1900 (best 1900), training loss: 0.8889607632853302, validation loss: 0.2206570953130722\n",
      "Epoch 1950 (best 1950), training loss: 0.8824894179536269, validation loss: 0.2191895991563797\n",
      "Epoch 2000 (best 2000), training loss: 0.8759312247187472, validation loss: 0.21774084866046906\n",
      "Epoch 2050 (best 2050), training loss: 0.8693116363758605, validation loss: 0.21631288528442383\n",
      "Epoch 2100 (best 2100), training loss: 0.8626525861200929, validation loss: 0.21490757167339325\n",
      "Epoch 2150 (best 2150), training loss: 0.855972750567363, validation loss: 0.2135263979434967\n",
      "Epoch 2200 (best 2200), training loss: 0.8492878822611136, validation loss: 0.2121705263853073\n",
      "Epoch 2250 (best 2250), training loss: 0.8426111836858639, validation loss: 0.21084092557430267\n",
      "Epoch 2300 (best 2300), training loss: 0.8359536991108216, validation loss: 0.20953822135925293\n",
      "Epoch 2350 (best 2350), training loss: 0.8293247053281005, validation loss: 0.20826292037963867\n",
      "Epoch 2400 (best 2400), training loss: 0.8227320869774886, validation loss: 0.20701530575752258\n",
      "Epoch 2450 (best 2450), training loss: 0.8161826863246324, validation loss: 0.20579557120800018\n",
      "Epoch 2500 (best 2500), training loss: 0.809682620911153, validation loss: 0.204603910446167\n",
      "Epoch 2550 (best 2550), training loss: 0.8032375653640157, validation loss: 0.20344038307666779\n",
      "Epoch 2600 (best 2600), training loss: 0.7968529958413005, validation loss: 0.20230507850646973\n",
      "Epoch 2650 (best 2650), training loss: 0.7905343971424412, validation loss: 0.20119820535182953\n",
      "Epoch 2700 (best 2700), training loss: 0.7842874334759501, validation loss: 0.2001200169324875\n",
      "Epoch 2750 (best 2750), training loss: 0.7781180843231441, validation loss: 0.1990707367658615\n",
      "Epoch 2800 (best 2800), training loss: 0.7720327468317567, validation loss: 0.1980508416891098\n",
      "Epoch 2850 (best 2850), training loss: 0.7660383058024197, validation loss: 0.19706085324287415\n",
      "Epoch 2900 (best 2900), training loss: 0.7601421716975384, validation loss: 0.19610139727592468\n",
      "Epoch 2950 (best 2950), training loss: 0.7543522863378532, validation loss: 0.19517327845096588\n",
      "Epoch 3000 (best 3000), training loss: 0.7486770952330442, validation loss: 0.1942773163318634\n",
      "Epoch 3050 (best 3050), training loss: 0.7431254850355702, validation loss: 0.19341443479061127\n",
      "Epoch 3100 (best 3100), training loss: 0.7377066846645982, validation loss: 0.19258558750152588\n",
      "Epoch 3150 (best 3150), training loss: 0.7324301294691712, validation loss: 0.19179187715053558\n",
      "Epoch 3200 (best 3200), training loss: 0.7273052895794303, validation loss: 0.1910342276096344\n",
      "Epoch 3250 (best 3250), training loss: 0.7223414663799794, validation loss: 0.19031362235546112\n",
      "Epoch 3300 (best 3300), training loss: 0.7175475646523692, validation loss: 0.18963085114955902\n",
      "Epoch 3350 (best 3350), training loss: 0.7129318519108303, validation loss: 0.18898656964302063\n",
      "Epoch 3400 (best 3400), training loss: 0.7085017200680441, validation loss: 0.18838129937648773\n",
      "Epoch 3450 (best 3450), training loss: 0.7042634669411678, validation loss: 0.18781515955924988\n",
      "Epoch 3500 (best 3500), training loss: 0.7002221154462293, validation loss: 0.1872880756855011\n",
      "Epoch 3550 (best 3550), training loss: 0.6963812861767085, validation loss: 0.18679964542388916\n",
      "Epoch 3600 (best 3600), training loss: 0.6927431345118538, validation loss: 0.18634910881519318\n",
      "Epoch 3650 (best 3650), training loss: 0.6893083571182634, validation loss: 0.18593540787696838\n",
      "Epoch 3700 (best 3700), training loss: 0.6860762657556269, validation loss: 0.18555708229541779\n",
      "Epoch 3750 (best 3750), training loss: 0.6830449197924849, validation loss: 0.18521247804164886\n",
      "Epoch 3800 (best 3800), training loss: 0.6802113036068904, validation loss: 0.18489956855773926\n",
      "Epoch 3850 (best 3850), training loss: 0.6775715314380342, validation loss: 0.18461637198925018\n",
      "Epoch 3900 (best 3900), training loss: 0.6751210601663571, validation loss: 0.18436048924922943\n",
      "Epoch 3950 (best 3950), training loss: 0.6728548896411718, validation loss: 0.18412965536117554\n",
      "Epoch 4000 (best 4000), training loss: 0.6707677303939789, validation loss: 0.18392150104045868\n",
      "Epoch 4050 (best 4050), training loss: 0.6688541201381119, validation loss: 0.18373382091522217\n",
      "Epoch 4100 (best 4100), training loss: 0.6671084740964257, validation loss: 0.18356440961360931\n",
      "Epoch 4150 (best 4150), training loss: 0.6655250608643055, validation loss: 0.18341116607189178\n",
      "Epoch 4200 (best 4200), training loss: 0.6640979057626005, validation loss: 0.18327225744724274\n",
      "Epoch 4250 (best 4250), training loss: 0.6628206368456189, validation loss: 0.1831459105014801\n",
      "Epoch 4300 (best 4300), training loss: 0.6616863025175361, validation loss: 0.18303047120571136\n",
      "Epoch 4350 (best 4350), training loss: 0.6606872000824303, validation loss: 0.18292450904846191\n",
      "Epoch 4400 (best 4400), training loss: 0.6598147571912604, validation loss: 0.18282662332057953\n",
      "Epoch 4450 (best 4450), training loss: 0.6590595005357331, validation loss: 0.18273554742336273\n",
      "Epoch 4500 (best 4500), training loss: 0.6584111293571625, validation loss: 0.18265008926391602\n",
      "Epoch 4550 (best 4550), training loss: 0.6578586901849127, validation loss: 0.1825692504644394\n",
      "Epoch 4600 (best 4600), training loss: 0.6573908301873789, validation loss: 0.18249209225177765\n",
      "Epoch 4650 (best 4650), training loss: 0.6569960948099848, validation loss: 0.1824178248643875\n",
      "Epoch 4700 (best 4700), training loss: 0.6566632328288085, validation loss: 0.18234577775001526\n",
      "Epoch 4750 (best 4750), training loss: 0.6563814770153075, validation loss: 0.18227550387382507\n",
      "Epoch 4800 (best 4800), training loss: 0.6561407779165028, validation loss: 0.18220654129981995\n",
      "Epoch 4850 (best 4850), training loss: 0.6559319784606443, validation loss: 0.1821385622024536\n",
      "Epoch 4900 (best 4900), training loss: 0.6557469259780037, validation loss: 0.1820714920759201\n",
      "Epoch 4950 (best 4950), training loss: 0.6555785248386441, validation loss: 0.18200507760047913\n",
      "Input sentence:\n",
      "['a', 'a', 'a', 'a', 'a', 'a', 'a', 'b', 'b', 'b', 'b', 'b', 'b', 'b']\n",
      "\n",
      "Target sequence:\n",
      "['a', 'a', 'a', 'a', 'a', 'a', 'b', 'b', 'b', 'b', 'b', 'b', 'b', 'EOS']\n",
      "\n",
      "Predicted sequence:\n",
      "['a', 'a', 'a', 'a', 'a', 'a', 'b', 'b', 'b', 'b', 'b', 'b', 'b', 'EOS']\n"
     ]
    },
    {
     "data": {
      "image/png": "[encoded data removed]",
      "text/plain": [
       "<Figure size 640x480 with 1 Axes>"
      ]
     },
     "metadata": {},
     "output_type": "display_data"
    }
   ],
   "source": [
    "import matplotlib.pyplot as plt\n",
    "%matplotlib inline\n",
    "\n",
    "# Hyper-parameters\n",
    "num_epochs = 5000\n",
    "hidden_size = 50\n",
    "\n",
    "# Initialize a new network\n",
    "parameters = init_network(hidden_size=hidden_size, vocab_size=vocab_size)\n",
    "\n",
    "# Initialize hidden state as zeros\n",
    "hidden_state = np.zeros((hidden_size, 1))\n",
    "\n",
    "# Track loss\n",
    "training_loss, validation_loss = [], []\n",
    "\n",
    "# Keep track of best validation loss\n",
    "min_loss = 10000\n",
    "\n",
    "# For each epoch\n",
    "for i in range(num_epochs):\n",
    "    \n",
    "    # Track loss\n",
    "    epoch_training_loss = 0\n",
    "    epoch_validation_loss = 0\n",
    "    \n",
    "     # For each sentence in validation set\n",
    "    for inputs, targets in validation_set:\n",
    "        \n",
    "        # One-hot encode input and target sequence\n",
    "        inputs_one_hot = one_hot_encode_sequence(inputs, vocab_size, char_to_idx)\n",
    "        targets_one_hot = one_hot_encode_sequence(targets, vocab_size, char_to_idx)\n",
    "        \n",
    "        # Re-initialize hidden state\n",
    "        hidden_state = np.zeros_like(hidden_state)\n",
    "\n",
    "        # Forward pass\n",
    "        outputs, hidden_states = forward_pass(inputs_one_hot, hidden_state, parameters)\n",
    "\n",
    "#        print(\"---\\ntargets_one_hot.T\", jnp.array(targets_one_hot).T)\n",
    "#        print(\"outputs.T\", jnp.array(outputs).T)\n",
    "        loss, _ = binary_cross_entropy(outputs, targets_one_hot, axis=2)\n",
    "        loss = loss.mean()\n",
    "#        print(\"loss\", loss)\n",
    "\n",
    "        # Update loss\n",
    "        epoch_validation_loss += loss\n",
    "\n",
    "    # If lowest val loss, save parameters of model\n",
    "    if epoch_validation_loss < min_loss:\n",
    "        min_loss = epoch_validation_loss\n",
    "        best_epoch = i\n",
    "        best_parameters = parameters\n",
    "    \n",
    "    # For each sentence in training set\n",
    "    for inputs, targets in training_set:\n",
    "        \n",
    "        # One-hot encode input and target sequence\n",
    "        inputs_one_hot = one_hot_encode_sequence(inputs, vocab_size, char_to_idx)\n",
    "        targets_one_hot = one_hot_encode_sequence(targets, vocab_size, char_to_idx)\n",
    "        \n",
    "        # Re-initialize hidden state\n",
    "        hidden_state = np.zeros_like(hidden_state)\n",
    "\n",
    "        # Forward pass\n",
    "        outputs, hidden_states = forward_pass(inputs_one_hot, hidden_state, parameters)\n",
    "\n",
    "        # Backward pass\n",
    "        loss, gradients = backward_pass(inputs_one_hot, outputs, hidden_states, targets_one_hot, parameters)\n",
    "\n",
    "        if np.isnan(loss):\n",
    "            raise ValueError('Gradients have vanished!')\n",
    "        \n",
    "        # Update parameters\n",
    "        parameters = gradient_descent(parameters, gradients, lr=1e-3)\n",
    "        \n",
    "        # Update loss\n",
    "        epoch_training_loss += loss\n",
    "        \n",
    "    # Save loss for plot\n",
    "    training_loss.append(epoch_training_loss/len(training_set))\n",
    "    validation_loss.append(epoch_validation_loss/len(validation_set))\n",
    "\n",
    "    # Print loss every 100 epochs\n",
    "    if i % 50 == 0:\n",
    "        print(f'Epoch {i} (best {best_epoch}), training loss: {training_loss[-1]}, validation loss: {validation_loss[-1]} ({min_loss})')\n",
    "\n",
    "parameters = best_parameters\n",
    "\n",
    "# Get first sentence in train set\n",
    "inputs, targets = training_set[0]\n",
    "\n",
    "# One-hot encode input and target sequence\n",
    "inputs_one_hot = one_hot_encode_sequence(inputs, vocab_size, char_to_idx)\n",
    "targets_one_hot = one_hot_encode_sequence(targets, vocab_size, char_to_idx)\n",
    "\n",
    "# Initialize hidden state as zeros\n",
    "hidden_state = np.zeros((hidden_size, 1))\n",
    "\n",
    "# Forward pass\n",
    "outputs, hidden_states = forward_pass(inputs_one_hot, hidden_state, parameters)\n",
    "\n",
    "output_sentence = [idx_to_char[np.argmax(output)] for output in outputs]\n",
    "print('Input sentence:')\n",
    "print(inputs)\n",
    "\n",
    "print('\\nTarget sequence:')\n",
    "print(targets)\n",
    "\n",
    "print('\\nPredicted sequence:')\n",
    "print([idx_to_char[np.argmax(output)] for output in outputs])\n",
    "\n",
    "# Plot training and validation loss\n",
    "epoch = np.arange(len(training_loss))\n",
    "plt.figure()\n",
    "plt.plot(epoch, training_loss, 'r', label='Training loss',)\n",
    "plt.plot(epoch, validation_loss, 'b', label='Validation loss')\n",
    "plt.legend()\n",
    "plt.xlabel('Epoch'), plt.ylabel('NLL')\n",
    "plt.show()"
   ]
  },
  {
   "cell_type": "code",
   "execution_count": 93,
   "metadata": {
    "ExecuteTime": {
     "end_time": "2024-02-12T08:31:18.390848900Z",
     "start_time": "2024-02-12T08:31:18.379849300Z"
    }
   },
   "outputs": [
    {
     "name": "stdout",
     "output_type": "stream",
     "text": [
      "Input sequence....: ['a', 'b']\n",
      "Target sequence...: ['b', 'EOS']\n",
      "Predicted sequence: ['a', 'EOS']\n",
      "Test accuracy is 50.0%.\n",
      "Input sequence....: ['a', 'a', 'a', 'a', 'a', 'a', 'a', 'b', 'b', 'b', 'b', 'b', 'b', 'b']\n",
      "Target sequence...: ['a', 'a', 'a', 'a', 'a', 'a', 'b', 'b', 'b', 'b', 'b', 'b', 'b', 'EOS']\n",
      "Predicted sequence: ['a', 'a', 'a', 'a', 'a', 'a', 'b', 'b', 'b', 'b', 'b', 'b', 'b', 'EOS']\n",
      "Test accuracy is 100.0%.\n",
      "Input sequence....: ['a', 'a', 'a', 'a', 'a', 'a', 'a', 'b', 'b', 'b', 'b', 'b', 'b', 'b']\n",
      "Target sequence...: ['a', 'a', 'a', 'a', 'a', 'a', 'b', 'b', 'b', 'b', 'b', 'b', 'b', 'EOS']\n",
      "Predicted sequence: ['a', 'a', 'a', 'a', 'a', 'a', 'b', 'b', 'b', 'b', 'b', 'b', 'b', 'EOS']\n",
      "Test accuracy is 100.0%.\n",
      "Input sequence....: ['a', 'a', 'a', 'a', 'a', 'a', 'a', 'a', 'b', 'b', 'b', 'b', 'b', 'b', 'b', 'b']\n",
      "Target sequence...: ['a', 'a', 'a', 'a', 'a', 'a', 'a', 'b', 'b', 'b', 'b', 'b', 'b', 'b', 'b', 'EOS']\n",
      "Predicted sequence: ['a', 'a', 'a', 'a', 'a', 'a', 'b', 'b', 'b', 'b', 'b', 'b', 'b', 'b', 'b', 'EOS']\n",
      "Test accuracy is 94.0%.\n",
      "Input sequence....: ['a', 'a', 'a', 'a', 'a', 'b', 'b', 'b', 'b', 'b']\n",
      "Target sequence...: ['a', 'a', 'a', 'a', 'b', 'b', 'b', 'b', 'b', 'EOS']\n",
      "Predicted sequence: ['a', 'a', 'a', 'a', 'a', 'b', 'b', 'b', 'b', 'EOS']\n",
      "Test accuracy is 90.0%.\n",
      "Input sequence....: ['a', 'a', 'a', 'b', 'b', 'b']\n",
      "Target sequence...: ['a', 'a', 'b', 'b', 'b', 'EOS']\n",
      "Predicted sequence: ['a', 'a', 'a', 'b', 'b', 'EOS']\n",
      "Test accuracy is 83.0%.\n",
      "Input sequence....: ['a', 'a', 'a', 'a', 'a', 'a', 'a', 'a', 'b', 'b', 'b', 'b', 'b', 'b', 'b', 'b']\n",
      "Target sequence...: ['a', 'a', 'a', 'a', 'a', 'a', 'a', 'b', 'b', 'b', 'b', 'b', 'b', 'b', 'b', 'EOS']\n",
      "Predicted sequence: ['a', 'a', 'a', 'a', 'a', 'a', 'b', 'b', 'b', 'b', 'b', 'b', 'b', 'b', 'b', 'EOS']\n",
      "Test accuracy is 94.0%.\n",
      "Input sequence....: ['a', 'a', 'a', 'a', 'a', 'a', 'b', 'b', 'b', 'b', 'b', 'b']\n",
      "Target sequence...: ['a', 'a', 'a', 'a', 'a', 'b', 'b', 'b', 'b', 'b', 'b', 'EOS']\n",
      "Predicted sequence: ['a', 'a', 'a', 'a', 'a', 'a', 'b', 'b', 'b', 'b', 'b', 'EOS']\n",
      "Test accuracy is 92.0%.\n",
      "Input sequence....: ['a', 'a', 'a', 'b', 'b', 'b']\n",
      "Target sequence...: ['a', 'a', 'b', 'b', 'b', 'EOS']\n",
      "Predicted sequence: ['a', 'a', 'a', 'b', 'b', 'EOS']\n",
      "Test accuracy is 83.0%.\n",
      "Input sequence....: ['a', 'b']\n",
      "Target sequence...: ['b', 'EOS']\n",
      "Predicted sequence: ['a', 'EOS']\n",
      "Test accuracy is 50.0%.\n"
     ]
    }
   ],
   "source": [
    "# Testing your network\n",
    "\n",
    "# Get first sequence in testing set\n",
    "for test_input_sequence, test_target_sequence in test_set:\n",
    "    \n",
    "    # One-hot encode input and target sequence\n",
    "    test_input = one_hot_encode_sequence(test_input_sequence, vocab_size, char_to_idx)\n",
    "    test_target = one_hot_encode_sequence(test_target_sequence, vocab_size, char_to_idx)\n",
    "    \n",
    "    # Initialize hidden state as zeros\n",
    "    hidden_state = np.zeros((hidden_size, 1))\n",
    "    \n",
    "    # Forward pass\n",
    "    outputs, hidden_states = forward_pass(test_input, hidden_state, parameters)\n",
    "    \n",
    "    print('Input sequence....:', test_input_sequence)\n",
    "    \n",
    "    print('Target sequence...:', test_target_sequence)\n",
    "    \n",
    "    preds = [idx_to_char[np.argmax(output)] for output in outputs]\n",
    "    print('Predicted sequence:', preds)\n",
    "    \n",
    "    accuracy = 0\n",
    "    for target, pred in zip(test_target_sequence, preds):\n",
    "        accuracy += target == pred\n",
    "    accuracy /= len(test_target_sequence)/100\n",
    "    \n",
    "    print(f\"Test accuracy is {np.round(accuracy)}%.\") "
   ]
  },
  {
   "cell_type": "markdown",
   "metadata": {},
   "source": [
    "## Trying a more complex task\n",
    "The you dataset is an extremely simple set of characters to predict. Now, let's try using a more complicated dataset. The code below imports data from a collection of Shakespeare's plays and turns it into sequences of characters. Try running your network on this data and see if it works.\n",
    "\n",
    "**Exercise:** Paste and run your training and testing on the Shakespeare dataset. You don't have to achieve any specific loss or accuracy. Does it work? Please speculate on why/why not."
   ]
  },
  {
   "cell_type": "markdown",
   "metadata": {},
   "source": [
    "Your answer here:"
   ]
  },
  {
   "cell_type": "code",
   "execution_count": 94,
   "metadata": {
    "ExecuteTime": {
     "end_time": "2024-02-12T09:38:03.549540600Z",
     "start_time": "2024-02-12T09:38:03.524538200Z"
    }
   },
   "outputs": [
    {
     "ename": "FileNotFoundError",
     "evalue": "[Errno 2] No such file or directory: 'input.txt'",
     "output_type": "error",
     "traceback": [
      "\u001b[0;31m---------------------------------------------------------------------------\u001b[0m",
      "\u001b[0;31mFileNotFoundError\u001b[0m                         Traceback (most recent call last)",
      "Cell \u001b[0;32mIn[94], line 1\u001b[0m\n\u001b[0;32m----> 1\u001b[0m sequences, char_to_idx, idx_to_char, num_sequences, vocab_size \u001b[38;5;241m=\u001b[39m set_up_sequences()\n\u001b[1;32m      3\u001b[0m \u001b[38;5;66;03m#num_sequences = len(sequences)\u001b[39;00m\n\u001b[1;32m      4\u001b[0m \u001b[38;5;66;03m#vocab_size = len(np.unique(sequences))\u001b[39;00m\n\u001b[1;32m      5\u001b[0m \u001b[38;5;28mprint\u001b[39m(\u001b[38;5;124m'\u001b[39m\u001b[38;5;124mA sentence from the Shakespeare dataset:\u001b[39m\u001b[38;5;124m'\u001b[39m)\n",
      "File \u001b[0;32m~/jupyter_data/gits/LTU/ANN/ANN2_support_functions.py:176\u001b[0m, in \u001b[0;36mset_up_sequences\u001b[0;34m(file_name)\u001b[0m\n\u001b[1;32m    174\u001b[0m     sequences \u001b[38;5;241m=\u001b[39m generate_toy_dataset()\n\u001b[1;32m    175\u001b[0m \u001b[38;5;28;01melse\u001b[39;00m:\n\u001b[0;32m--> 176\u001b[0m     \u001b[38;5;28;01mwith\u001b[39;00m \u001b[38;5;28mopen\u001b[39m(file_name, \u001b[38;5;124m'\u001b[39m\u001b[38;5;124mr\u001b[39m\u001b[38;5;124m'\u001b[39m, encoding\u001b[38;5;241m=\u001b[39m\u001b[38;5;124m'\u001b[39m\u001b[38;5;124mutf-8\u001b[39m\u001b[38;5;124m'\u001b[39m) \u001b[38;5;28;01mas\u001b[39;00m file:\n\u001b[1;32m    177\u001b[0m         doc \u001b[38;5;241m=\u001b[39m file\u001b[38;5;241m.\u001b[39mread()\n\u001b[1;32m    178\u001b[0m     chunks \u001b[38;5;241m=\u001b[39m doc\u001b[38;5;241m.\u001b[39msplit(\u001b[38;5;124m'\u001b[39m\u001b[38;5;124m.\u001b[39m\u001b[38;5;124m'\u001b[39m)\n",
      "\u001b[0;31mFileNotFoundError\u001b[0m: [Errno 2] No such file or directory: 'input.txt'"
     ]
    }
   ],
   "source": [
    "sequences, char_to_idx, idx_to_char, num_sequences, vocab_size = set_up_sequences()\n",
    "\n",
    "#num_sequences = len(sequences)\n",
    "#vocab_size = len(np.unique(sequences))\n",
    "print('A sentence from the Shakespeare dataset:')\n",
    "\n",
    "# Whole dataset is too big to effectively train on, so let's start by grabbing the first 100 sequences\n",
    "sequences = sequences[0:100]\n",
    "training_set, validation_set, test_set = set_up_datasets(sequences)"
   ]
  },
  {
   "cell_type": "markdown",
   "metadata": {},
   "source": [
    "**Exercise:** Your code for training and testing here"
   ]
  },
  {
   "cell_type": "markdown",
   "metadata": {},
   "source": [
    "# Part 3 - LSTMs"
   ]
  },
  {
   "cell_type": "markdown",
   "metadata": {},
   "source": [
    "One of the most famous challenges for RNNs is [the vanishing gradient problem](http://neuralnetworksanddeeplearning.com/chap5.html#the_vanishing_gradient_problem), where the gradient, i.e. the signal to update our weights, goes to zero due to repetetive multiplications of values <1 in the backprop (or goes to oo due to repetetive multiplications of values >1 in what's called exploding gradient). This can happen to all networks, but RNNs are far more vulnurable to it due to the long sequences of backprops through time. In this section of the lab you'll see how this issue can be addressed, and \n",
    "\n",
    "Please read through [Christopher Olah's walk through](http://colah.github.io/posts/2015-08-Understanding-LSTMs/) to understand this issue and its solutions in more detail."
   ]
  },
  {
   "cell_type": "markdown",
   "metadata": {},
   "source": [
    "![Vanilla RNN](http://colah.github.io/posts/2015-08-Understanding-LSTMs/img/LSTM3-SimpleRNN.png)\n",
    "![Terminology](http://colah.github.io/posts/2015-08-Understanding-LSTMs/img/LSTM2-notation.png)\n",
    "\n",
    "The image above represents a normal \"vanilla\" RNN, with the yellow \"tanh\" rectangle symbolising our current network. $h_t$ represents the output in this image, so as you can see there's the x->hidden state connection, hidden state update connection, and hidden state->output connection. \n",
    "\n",
    "To amend the issue of vanishing gradients, gated hidden units were introduced, which act like a highway between states to facilitate modelling long-range dependencies. Two famous solutions exist, one called \"long short-term memory\" (LSTM) and the other \"gated recurrent unit\" (GRU). Today, we're going to look a bit closer at the LSTM (don't worry though, you're using pytorch to implement it this time).\n",
    "\n",
    "The image below, fully explained in the walk through, shows the schematic of an LSTM cell. The fundamentals from our vanilla RNN are still there, namely the tanh of our input and previous hidden state, but we now have a \"cell state\", which acts as the aforementioned highway, and three \"gates\" which update this cell state.\n",
    "\n",
    "The three gates are the input gate $i$, the forget gate $f$, and the output gate $o$. They are defined as \n",
    "\\begin{equation*}\n",
    "\\begin{aligned}\n",
    "i = \\sigma ( W^i [h_{t-1}, x_t])\\\\\n",
    "f = \\sigma ( W^f [h_{t-1},x_t])\\\\\n",
    "o = \\sigma ( W^o [h_{t-1},x_t])\n",
    "\\end{aligned}\n",
    "\\tag{2}\n",
    "\\end{equation*}\n",
    "\n",
    "\n",
    "where $W^i$, $W^f$, and $W^o$ are the weight matrices applied to $h_{t-1},x_t$.\n",
    "\n",
    "![LSTM](http://colah.github.io/posts/2015-08-Understanding-LSTMs/img/LSTM3-chain.png)"
   ]
  },
  {
   "cell_type": "markdown",
   "metadata": {},
   "source": [
    "**Exercise:** Read the walk through above and explain the function of the three gates"
   ]
  },
  {
   "cell_type": "markdown",
   "metadata": {},
   "source": [
    "Write your answer here:\n",
    "- forget gate:\n",
    "- input gate:\n",
    "- output gate:"
   ]
  },
  {
   "cell_type": "markdown",
   "metadata": {},
   "source": [
    "## Using an LSTM with Pytorch\n",
    "Now for your final task. Having learned how LSTMs work in theory, it's now time to put this knowledge into practice.\n",
    "\n",
    "Using the [LSTM pytorch documentations](https://pytorch.org/docs/stable/generated/torch.nn.LSTM.html), build and train an LSTM network and compare it to your self-made RNN. You won't need to import any more packages than those already imported, but you're free to use any approach as long as you can defend it during the presentation.\n",
    "\n",
    "**Exercise:** Build the LSTM network\n"
   ]
  },
  {
   "cell_type": "code",
   "execution_count": null,
   "metadata": {},
   "outputs": [],
   "source": [
    "import torch\n",
    "import torch.nn as nn\n",
    "import torch.nn.functional as F\n",
    "\n",
    "class LSTM(nn.Module):\n",
    "    def __init__(self, hidden_size = 25):\n",
    "        super(LSTM, self).__init__()\n",
    "        num_layers = 1\n",
    "        # Recurrent layer\n",
    "        # TODO:\n",
    "        self.lstm = nn.LSTM(input_size=...,\n",
    "                         hidden_size=...,\n",
    "                         num_layers=num_layers,\n",
    "                         bidirectional=False)\n",
    "        \n",
    "        # Output layer\n",
    "        self.l_out = nn.Linear(in_features=...,\n",
    "                            out_features=...,\n",
    "                            bias=False)\n",
    "        \n",
    "    def forward(self, x):\n",
    "        # RNN returns output and last hidden state\n",
    "        # TODO:\n",
    "        x, (h, c) = \n",
    "        \n",
    "        # Flatten output for feed-forward layer\n",
    "        x = x.view(-1, self.lstm.hidden_size)\n",
    "        \n",
    "        # Output layer\n",
    "        # TODO:\n",
    "        x = \n",
    "        return x"
   ]
  },
  {
   "cell_type": "markdown",
   "metadata": {},
   "source": [
    "## Setting up the network hyperparameters"
   ]
  },
  {
   "cell_type": "code",
   "execution_count": null,
   "metadata": {},
   "outputs": [],
   "source": [
    "# Initialise our network\n",
    "model = LSTM()\n",
    "print(model)\n",
    "min_LSTM_loss = 10000\n",
    "\n",
    "# Store training and validation loss\n",
    "training_loss, validation_loss = [], []\n",
    "\n",
    "# Define a loss function and optimizer for this problem\n",
    "criterion = nn.CrossEntropyLoss()\n",
    "optimizer = torch.optim.Adam(model.parameters(), lr=3e-3)\n",
    "# A way to get learning rate decay\n",
    "scheduler = torch.optim.lr_scheduler.StepLR(optimizer, step_size=30, gamma=0.9)"
   ]
  },
  {
   "cell_type": "markdown",
   "metadata": {},
   "source": [
    "## Train the network\n",
    "**Exercise:** Finish the training code until you have at least 25% accuracy. If you're willing to train for a long time, feel free to use more data and bigger models."
   ]
  },
  {
   "cell_type": "code",
   "execution_count": null,
   "metadata": {},
   "outputs": [],
   "source": [
    "# Hyper-parameters\n",
    "num_epochs = 25\n",
    "\n",
    "import matplotlib.pyplot as plt\n",
    "%matplotlib inline\n",
    "\n",
    "# For each epoch\n",
    "for i in range(num_epochs):\n",
    "    \n",
    "    # Track loss\n",
    "    epoch_training_loss = 0\n",
    "    epoch_validation_loss = 0\n",
    "    \n",
    "    model.eval()\n",
    "        \n",
    "    # For each sentence in validation set\n",
    "    for inputs, targets in validation_set:\n",
    "        \n",
    "        # One-hot encode input and target sequence\n",
    "        inputs_one_hot = one_hot_encode_sequence(inputs, vocab_size, char_to_idx)\n",
    "        targets_idx = [char_to_idx[char] for char in targets]\n",
    "        \n",
    "        # Convert input to tensor\n",
    "        inputs_one_hot = torch.Tensor(inputs_one_hot)\n",
    "        inputs_one_hot = inputs_one_hot.permute(0, 2, 1)\n",
    "        \n",
    "        # Convert target to tensor\n",
    "        targets_idx = torch.LongTensor(targets_idx)\n",
    "        \n",
    "        # Forward pass\n",
    "        # TODO:\n",
    "        outputs = model.forward(inputs_one_hot)\n",
    "        \n",
    "        # Compute loss\n",
    "        # TODO:\n",
    "        loss = criterion(outputs, targets_idx)\n",
    "\n",
    "        if loss<min_LSTM_loss:\n",
    "            torch.save(model, 'best_model.pt')\n",
    "        \n",
    "        # Update loss\n",
    "        epoch_validation_loss += loss.detach().numpy()\n",
    "    \n",
    "    model.train()\n",
    "    \n",
    "    # For each sentence in training set\n",
    "    for inputs, targets in training_set:\n",
    "        \n",
    "        # One-hot encode input and target sequence\n",
    "        inputs_one_hot = one_hot_encode_sequence(inputs, vocab_size, char_to_idx)\n",
    "        targets_idx = [char_to_idx[char] for char in targets]\n",
    "        \n",
    "        # Convert input to tensor\n",
    "        inputs_one_hot = torch.Tensor(inputs_one_hot)\n",
    "        inputs_one_hot = inputs_one_hot.permute(0, 2, 1)\n",
    "        \n",
    "        # Convert target to tensor\n",
    "        targets_idx = torch.LongTensor(targets_idx)\n",
    "        \n",
    "        # Forward pass\n",
    "        # TODO:\n",
    "        outputs = model.forward(inputs_one_hot)\n",
    "        \n",
    "        # Compute loss\n",
    "        # TODO:\n",
    "\n",
    "        \n",
    "        # Reset gradients\n",
    "        # TODO:\n",
    "\n",
    "        # Compute gradients\n",
    "        # TODO:\n",
    "\n",
    "        # Update weights\n",
    "        # TODO:\n",
    "        optimizer.step()\n",
    "\n",
    "        # Update learning rate (advanced technique, can be ignored)\n",
    "        scheduler.step()\n",
    "        \n",
    "        # Update loss\n",
    "        epoch_training_loss += loss.detach().numpy()\n",
    "        \n",
    "    # Save loss for plot\n",
    "    training_loss.append(epoch_training_loss/len(training_set))\n",
    "    validation_loss.append(epoch_validation_loss/len(validation_set))\n",
    "\n",
    "    # Print loss every 5 epochs\n",
    "    if i % 5 == 0:\n",
    "        print(f'Epoch {i}, training loss: {training_loss[-1]}, validation loss: {validation_loss[-1]}')\n",
    "\n",
    "# Plot training and validation loss\n",
    "epoch = np.arange(len(training_loss))\n",
    "\n",
    "# Get first sentence in training set\n",
    "inputs, targets = training_set[0]\n",
    "\n",
    "# One-hot encode input and target sequence\n",
    "inputs_one_hot = one_hot_encode_sequence(inputs, vocab_size, char_to_idx)\n",
    "targets_idx = [char_to_idx[char] for char in targets]\n",
    "\n",
    "# Convert input to tensor\n",
    "inputs_one_hot = torch.Tensor(inputs_one_hot)\n",
    "inputs_one_hot = inputs_one_hot.permute(0, 2, 1)\n",
    "\n",
    "# Convert target to tensor\n",
    "targets_idx = torch.LongTensor(targets_idx)\n",
    "\n",
    "# Forward pass\n",
    "# TODO:\n",
    "outputs = best_model. ... .data.numpy()\n",
    "\n",
    "print('\\nInput sequence:')\n",
    "print(inputs)\n",
    "\n",
    "print('\\nTarget sequence:')\n",
    "print(targets)\n",
    "\n",
    "preds = [idx_to_char[np.argmax(output)] for output in outputs]\n",
    "print('\\nPredicted sequence:')\n",
    "print(preds)\n",
    "\n",
    "plt.figure()\n",
    "plt.plot(epoch, training_loss, 'r', label='Training loss',)\n",
    "plt.plot(epoch, validation_loss, 'b', label='Validation loss')\n",
    "plt.legend()\n",
    "plt.xlabel('Epoch'), plt.ylabel('NLL')\n",
    "plt.show()"
   ]
  },
  {
   "cell_type": "code",
   "execution_count": null,
   "metadata": {},
   "outputs": [],
   "source": [
    "best_model = LSTM()\n",
    "best_model = torch.load('best_model.pt')\n",
    "\n",
    "# Get first sentence in test set\n",
    "test_input_sequence, test_target_sequence = test_set[0]\n",
    "\n",
    "# One-hot encode input and target sequence\n",
    "inputs_one_hot = one_hot_encode_sequence(test_input_sequence, vocab_size, char_to_idx)\n",
    "targets_idx = [char_to_idx[char] for char in test_target_sequence]\n",
    "\n",
    "# Convert input to tensor\n",
    "inputs_one_hot = torch.Tensor(inputs_one_hot)\n",
    "inputs_one_hot = inputs_one_hot.permute(0, 2, 1)\n",
    "\n",
    "# Convert target to tensor\n",
    "targets_idx = torch.LongTensor(targets_idx)\n",
    "\n",
    "# Forward pass\n",
    "# TODO:\n",
    "outputs = best_model. ... .data.numpy()\n",
    "\n",
    "print('\\nInput sequence:')\n",
    "print(test_input_sequence)\n",
    "\n",
    "print('\\nTarget sequence:')\n",
    "print(test_target_sequence)\n",
    "\n",
    "preds = [idx_to_char[np.argmax(output)] for output in outputs]\n",
    "print('\\nPredicted sequence:')\n",
    "print(preds)\n",
    "\n",
    "accuracy = 0\n",
    "for target, pred in zip(test_target_sequence, preds):\n",
    "    accuracy += target == pred\n",
    "accuracy /= len(test_target_sequence)/100\n",
    "\n",
    "print(f\"Test accuracy is {np.round(accuracy)}%.\") "
   ]
  },
  {
   "cell_type": "markdown",
   "metadata": {},
   "source": [
    "## Final comments (extracurricular)\n",
    "Now you've seen how RNNs work and implemented a very simple causal language model. If you want to improve it, besides grabbing more data and building bigger models, you could also improve on character-based tokens to n_grams or subwords; make your word embeddings (hidden state) contextual, upgrade your model to a transformer or a state space model, and suddenly you've designed GPT, BERT, T5, LLaMA, or any other \"modern\" large language model. Though RNNs aren't the most popular due to the dominance of the transformer, models such as state space models, which exist inbetween RNNs and transformers, show that much innovation is still possible by merging these two frameworks."
   ]
  },
  {
   "cell_type": "code",
   "execution_count": null,
   "metadata": {},
   "outputs": [],
   "source": []
  }
 ],
 "metadata": {
  "kernelspec": {
   "display_name": "Python 3 (ipykernel)",
   "language": "python",
   "name": "python3"
  },
  "language_info": {
   "codemirror_mode": {
    "name": "ipython",
    "version": 3
   },
   "file_extension": ".py",
   "mimetype": "text/x-python",
   "name": "python",
   "nbconvert_exporter": "python",
   "pygments_lexer": "ipython3",
   "version": "3.11.7"
  }
 },
 "nbformat": 4,
 "nbformat_minor": 4
}
