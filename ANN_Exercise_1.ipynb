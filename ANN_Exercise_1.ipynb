{
  "cells": [
    {
      "cell_type": "markdown",
      "metadata": {
        "id": "view-in-github",
        "colab_type": "text"
      },
      "source": [
        "<a href=\"https://colab.research.google.com/github/RogerJL/LTU/blob/main/ANN_Exercise_1.ipynb\" target=\"_parent\"><img src=\"https://colab.research.google.com/assets/colab-badge.svg\" alt=\"Open In Colab\"/></a>"
      ]
    },
    {
      "cell_type": "markdown",
      "metadata": {
        "id": "zqnwnWXQakfJ"
      },
      "source": [
        "# D7046E Exercise 1 (ANN1)\n",
        "\n",
        "This exercise has three taks where you will deepen your understanding of how artificial neural networks (ANNs) are implemented and trained. First, you will represent digits on an eight-segment display as vectors and hard-code perceptrons that classifies the digits. The purpose of this task is to better understand the basic computational units in ANNs and how inputs can be represented as feature vectors. Secondly, you will implement and train neural networks using [pytorch](https://pytorch.org/) on the seven-segment display data and the [MNIST](http://yann.lecun.com/exdb/mnist/) dataset which you are familiar with from Exercise 0. Finally, you will implement a neural network including the forward (inference) pass and the backward (learning) pass from scratch using numpy. After completing these steps you will know the central building blocks of ANNs.\n",
        "\n",
        "## Literature\n",
        "Before starting with the implementation you should familiarize yourself with two additional chapters in the [deep learning book](https://www.deeplearningbook.org/). This will help you understand the theory behind neural networks and what mathematical formulas are important for the task. The lectures has touched on most of these concepts. Below is a list of recommended sections from the book. If you feel familiar with the contents of these sections, feel free to skip it.\n",
        "\n",
        "* Chapter 6 - Deep feedforward networks\n",
        "    - Section 6.0 - Discusses what do we mean by feedfoward networks and terminology such as input layer, output layer and hidden layer.\n",
        "    - Section 6.2 - Discusses what gradient based learning is and what cost functions are.\n",
        "    - Section 6.5 - Explains back propagation. Important here are the formulas 6.49 - 6.52.\n",
        "* Chapter 8 - Optimization for Training Deep Models\n",
        "    - Section 8.1.3 - Presents differences between batch (deterministic) and mini-batch (stochastic) algorithms.\n",
        "    \n",
        "## Libraries\n",
        "\n",
        "Before starting with the implementations you need to import the following libraries."
      ]
    },
    {
      "cell_type": "code",
      "execution_count": null,
      "metadata": {
        "ExecuteTime": {
          "end_time": "2024-01-09T10:35:40.465251700Z",
          "start_time": "2024-01-09T10:35:37.353754400Z"
        },
        "id": "26MnPsL9akfK",
        "colab": {
          "base_uri": "https://localhost:8080/"
        },
        "outputId": "eccb5260-281f-4115-b1e7-733f4ecc26b5"
      },
      "outputs": [
        {
          "output_type": "stream",
          "name": "stdout",
          "text": [
            "Downloading http://yann.lecun.com/exdb/mnist/train-images-idx3-ubyte.gz\n",
            "Downloading http://yann.lecun.com/exdb/mnist/train-images-idx3-ubyte.gz to ./MNIST/raw/train-images-idx3-ubyte.gz\n"
          ]
        },
        {
          "output_type": "stream",
          "name": "stderr",
          "text": [
            "100%|██████████| 9912422/9912422 [00:00<00:00, 89207735.66it/s]\n"
          ]
        },
        {
          "output_type": "stream",
          "name": "stdout",
          "text": [
            "Extracting ./MNIST/raw/train-images-idx3-ubyte.gz to ./MNIST/raw\n",
            "\n",
            "Downloading http://yann.lecun.com/exdb/mnist/train-labels-idx1-ubyte.gz\n",
            "Downloading http://yann.lecun.com/exdb/mnist/train-labels-idx1-ubyte.gz to ./MNIST/raw/train-labels-idx1-ubyte.gz\n"
          ]
        },
        {
          "output_type": "stream",
          "name": "stderr",
          "text": [
            "100%|██████████| 28881/28881 [00:00<00:00, 54006105.14it/s]\n"
          ]
        },
        {
          "output_type": "stream",
          "name": "stdout",
          "text": [
            "Extracting ./MNIST/raw/train-labels-idx1-ubyte.gz to ./MNIST/raw\n",
            "\n",
            "Downloading http://yann.lecun.com/exdb/mnist/t10k-images-idx3-ubyte.gz\n",
            "Downloading http://yann.lecun.com/exdb/mnist/t10k-images-idx3-ubyte.gz to ./MNIST/raw/t10k-images-idx3-ubyte.gz\n"
          ]
        },
        {
          "output_type": "stream",
          "name": "stderr",
          "text": [
            "100%|██████████| 1648877/1648877 [00:00<00:00, 31367431.95it/s]\n"
          ]
        },
        {
          "output_type": "stream",
          "name": "stdout",
          "text": [
            "Extracting ./MNIST/raw/t10k-images-idx3-ubyte.gz to ./MNIST/raw\n",
            "\n",
            "Downloading http://yann.lecun.com/exdb/mnist/t10k-labels-idx1-ubyte.gz\n",
            "Downloading http://yann.lecun.com/exdb/mnist/t10k-labels-idx1-ubyte.gz to ./MNIST/raw/t10k-labels-idx1-ubyte.gz\n"
          ]
        },
        {
          "output_type": "stream",
          "name": "stderr",
          "text": [
            "100%|██████████| 4542/4542 [00:00<00:00, 4785362.66it/s]\n"
          ]
        },
        {
          "output_type": "stream",
          "name": "stdout",
          "text": [
            "Extracting ./MNIST/raw/t10k-labels-idx1-ubyte.gz to ./MNIST/raw\n",
            "\n"
          ]
        }
      ],
      "source": [
        "import torch\n",
        "import torch.nn as nn\n",
        "import torch.nn.functional as F\n",
        "import torch.optim as optim\n",
        "from torch.utils.data import DataLoader\n",
        "from torchvision import datasets, transforms\n",
        "\n",
        "import matplotlib.pyplot as plt\n",
        "import numpy\n",
        "import copy\n",
        "import itertools\n",
        "\n",
        "# Download the dataset and create the dataloaders\n",
        "mnist_train = datasets.MNIST(\"./\", train=True, download=True, transform=transforms.ToTensor())\n",
        "\n",
        "# Split training dataset\n",
        "parts = torch.utils.data.random_split(mnist_train, [0.8, 0.2])\n",
        "\n",
        "mnist_test = datasets.MNIST(\"./\", train=False, download=True, transform=transforms.ToTensor())\n"
      ]
    },
    {
      "cell_type": "code",
      "source": [
        "device = torch.device(\"cuda:0\" if torch.cuda.is_available()\n",
        "                      else \"cpu\")\n",
        "print(\"Execution device\", device)\n"
      ],
      "metadata": {
        "colab": {
          "base_uri": "https://localhost:8080/"
        },
        "id": "F8A0h1Gs5HRY",
        "outputId": "f888ca4b-a55d-45cb-fc4a-55c8194bb6d4"
      },
      "execution_count": null,
      "outputs": [
        {
          "output_type": "stream",
          "name": "stdout",
          "text": [
            "Execution device cpu\n"
          ]
        }
      ]
    },
    {
      "cell_type": "markdown",
      "metadata": {
        "collapsed": false,
        "id": "fwtudc8DakfL"
      },
      "source": [
        "## Task 1\n",
        "\n",
        "Classification of seven-segment display numbers with perceptrons. A [seven-segment display](https://en.wikipedia.org/wiki/Seven-segment_display) can be used to display digits by turning the different segments (A,B,C,D,E,F, G) on or off. Your task is to design ten different perceptrons (which together make a single-layer neural network with 10 outputs) that recognizes the ten different digits (0,1,2,3, ... ,9) represented by a seven-segment display. The input to each perceptron will be a seven-dimensional vector {A,B,C,D,E,F,G} where A is 1 if segment A is turned on and 0 otherwise (and the same for all the other segments).\n",
        "\n",
        "![Seven Segment Display](https://upload.wikimedia.org/wikipedia/commons/thumb/e/ed/7_Segment_Display_with_Labeled_Segments.svg/225px-7_Segment_Display_with_Labeled_Segments.svg.png)\n",
        "\n",
        "This means that for each digit you should create a vector representing the digit, as well as a perceptron that selectively gives a high output for that particular digit and a low output for other digits. For each digit (0 to 9) the corresponding perceptron shoud have the greatest output value, indicating that it can correctly classify the corresponding digit/vector and thereby distinguish that digit from other digits.\n",
        "\n",
        "For example, the digit 2 corresponds to the vector {1,1,0,1,1,0,1}. If the perceptron at index 2 (the third pereptron since we have a perceptron for 0 as well) gives the greatest output for this vector then this perceptron functions as desired. Similarly, other perceptrons should give the highest output for their corresponding vector.\n",
        "\n",
        "For example, the digit zero is represented as segments A-F being on and segment G being off. The zero perceptron should reasonably have positive activation for A-F, say at a value of 1, and negative activation for G, say -1.\n",
        "\n",
        "Why negative?\n",
        "\n",
        "If we instead set the activation for G to 0, then there is no distinction between the digits zero and eight. Thus, our perceptron for zero would have the same output regardless of whether the input is zero or eight. You can address this with biases, so that the output for our eight-perceptron is higher than the zero-perceptron for input eight, and vice versa, but it makes balancing weights and biases much more difficult.\n",
        "\n",
        "A good starting point is to consider which activations should be positive or negative, implement this, then check the output for all perceptrons for each digit and then contemplate the bias.\n",
        "\n",
        "\n",
        "### Task 1.1\n",
        "\n",
        "In this task you should use numpy rather than PyTorch to implement and understand the elementary arithmetic operations involved. After completing this exercise you should understand how an artificial neural network unit (like the perceptron) produces one scalar output from multiple input values, and how the trainable weights and biases determine the relation between input and output values of a neural network unit and layer.\n",
        "\n",
        "Complete the input vectors, the weight vectors, and biases. Then update the prediction calculation (forward pass) to include bias in the calculation."
      ]
    },
    {
      "cell_type": "code",
      "execution_count": null,
      "metadata": {
        "ExecuteTime": {
          "end_time": "2024-01-09T10:35:56.967807200Z",
          "start_time": "2024-01-09T10:35:56.925697300Z"
        },
        "id": "QR8eEBuRakfL",
        "outputId": "4f2be700-5cbc-410c-cc42-fabd2478a1c7",
        "colab": {
          "base_uri": "https://localhost:8080/"
        }
      },
      "outputs": [
        {
          "output_type": "stream",
          "name": "stdout",
          "text": [
            "Digit 5 corresponds to the vector [1 0 1 1 0 1 1]\n"
          ]
        }
      ],
      "source": [
        "## First we need to define all the vectors corresponding to the various digits and add them to a list for easy access\n",
        "# Please finish the list of digit vectors asdasdas\n",
        "x = [\n",
        "    numpy.array([1,1,1,1,1,1,0]), # 0\n",
        "    numpy.array([0,1,1,0,0,0,0]), # 1\n",
        "    numpy.array([1,1,0,1,1,0,1]), # 2\n",
        "    numpy.array([1,1,1,1,0,0,1]), # 3\n",
        "    numpy.array([0,1,1,0,0,1,1]), # 4\n",
        "    numpy.array([1,0,1,1,0,1,1]), # 5\n",
        "    numpy.array([1,0,1,1,1,1,1]), # 6\n",
        "    numpy.array([1,1,1,0,0,0,0]), # 7\n",
        "    numpy.array([1,1,1,1,1,1,1]), # 8\n",
        "    numpy.array([1,1,1,1,0,1,1]), # 9\n",
        "]\n",
        "\n",
        "# TEACHER SOLUTION\n",
        "x = [\n",
        "    numpy.array([1,1,1,1,1,1,0]), # 0\n",
        "    numpy.array([0,1,1,0,0,0,0]), # 1\n",
        "    numpy.array([1,1,0,1,1,0,1]), # 2\n",
        "    numpy.array([1,1,1,1,0,0,1]), # 3\n",
        "    numpy.array([0,1,1,0,0,1,1]), # 4\n",
        "    numpy.array([1,0,1,1,0,1,1]), # 5\n",
        "    numpy.array([1,0,1,1,1,1,1]), # 6\n",
        "    numpy.array([1,1,1,0,0,0,0]), # 7\n",
        "    numpy.array([1,1,1,1,1,1,1]), # 8\n",
        "    numpy.array([1,1,1,1,0,1,1]), # 9\n",
        "]\n",
        "\n",
        "# And we print one of the vectors to show you how to get a specific vector\n",
        "print(f'Digit 5 corresponds to the vector {x[5]}')"
      ]
    },
    {
      "cell_type": "code",
      "execution_count": null,
      "metadata": {
        "ExecuteTime": {
          "end_time": "2024-01-09T10:36:37.574912200Z",
          "start_time": "2024-01-09T10:36:37.559272Z"
        },
        "id": "6QpWjrd4akfM",
        "colab": {
          "base_uri": "https://localhost:8080/"
        },
        "outputId": "ab7e0ff0-8c8e-41b0-80bf-76824bb0cb03"
      },
      "outputs": [
        {
          "output_type": "stream",
          "name": "stdout",
          "text": [
            "[-5, -1, -4, -4, -3, -4, -5, -2, -6, -5]\n"
          ]
        }
      ],
      "source": [
        "## Second we need to create ten perceptron with weights and biases\n",
        "# You also need to figure out which weights and biases to use for each perceptron\n",
        "# We've already created some of the perceptrons for you, but you need to create the rest\n",
        "# While we're using integers for our weight you can use floating point numbers (real numbers) as well if you want\n",
        "\n",
        "weights = [\n",
        "    numpy.array([1,1,1,1,1,1,-1]), # 0\n",
        "    numpy.array([-1,1,1,-1,-1,-1,-1]), # 1\n",
        "    numpy.array([1,1,-1,1,1,-1,1]), # 2\n",
        "    numpy.array([1,1,1,1,-1,-1,1]), # 3\n",
        "    numpy.array([-1,1,1,-1,-1,1,1]), # 4\n",
        "    numpy.array([1,-1,1,1,-1,1,1]), # 5\n",
        "    numpy.array([1,-1,1,1,1,1,1]), # 6\n",
        "    numpy.array([1,1,1,-1,-1,-1,-1]), # 7\n",
        "    numpy.array([1,1,1,1,1,1,1]), # 8\n",
        "    numpy.array([1,1,1,1,-1,1,1]), # 9\n",
        "\n",
        "]\n",
        "\n",
        "biases = [-sum(s) + 1 for s in x]\n",
        "print(biases)"
      ]
    },
    {
      "cell_type": "code",
      "execution_count": null,
      "metadata": {
        "ExecuteTime": {
          "end_time": "2024-01-09T14:07:14.671398100Z",
          "start_time": "2024-01-09T14:07:14.669360Z"
        },
        "id": "pJ-FCDmSakfM",
        "outputId": "b2692a00-0e93-455a-dec7-f1cd22220eb3",
        "colab": {
          "base_uri": "https://localhost:8080/"
        }
      },
      "outputs": [
        {
          "output_type": "stream",
          "name": "stdout",
          "text": [
            "Digit 0 was predicted to be 0\n",
            "Outputs for all perceptrons for the digit 0: [1, -3, -2, -2, -3, -2, -1, -2, 0, -1]\n",
            "\n",
            "Digit 1 was predicted to be 1\n",
            "Outputs for all perceptrons for the digit 1: [-3, 1, -4, -2, -1, -4, -5, 0, -4, -3]\n",
            "\n",
            "Digit 2 was predicted to be 2\n",
            "Outputs for all perceptrons for the digit 2: [-2, -4, 1, -1, -4, -3, -2, -3, -1, -2]\n",
            "\n",
            "Digit 3 was predicted to be 3\n",
            "Outputs for all perceptrons for the digit 3: [-2, -2, -1, 1, -2, -1, -2, -1, -1, 0]\n",
            "\n",
            "Digit 4 was predicted to be 4\n",
            "Outputs for all perceptrons for the digit 4: [-3, -1, -4, -2, 1, -2, -3, -2, -2, -1]\n",
            "\n",
            "Digit 5 was predicted to be 5\n",
            "Outputs for all perceptrons for the digit 5: [-2, -4, -3, -1, -2, 1, 0, -3, -1, 0]\n",
            "\n",
            "Digit 6 was predicted to be 6\n",
            "Outputs for all perceptrons for the digit 6: [-1, -5, -2, -2, -3, 0, 1, -4, 0, -1]\n",
            "\n",
            "Digit 7 was predicted to be 7\n",
            "Outputs for all perceptrons for the digit 7: [-2, 0, -3, -1, -2, -3, -4, 1, -3, -2]\n",
            "\n",
            "Digit 8 was predicted to be 8\n",
            "Outputs for all perceptrons for the digit 8: [0, -4, -1, -1, -2, -1, 0, -3, 1, 0]\n",
            "\n",
            "Digit 9 was predicted to be 9\n",
            "Outputs for all perceptrons for the digit 9: [-1, -3, -2, 0, -1, 0, -1, -2, 0, 1]\n",
            "\n"
          ]
        }
      ],
      "source": [
        "## Finally let's evaluate the output of the perceptrons.\n",
        "# The line computing the output of each perceptron is not using bias, so you need to add that as well.\n",
        "# If the perceptrons dont give the correct output then go back and edit the weights and biases in the\n",
        "# previous cell (or check that the vectors are implemented correctly) until the outputs discriminate\n",
        "# correctly between different digits. Remember to run a cell again (CONTROL + ENTER) if you update it.\n",
        "\n",
        "debug = True # Set this to True if the predictions are wrong to get a more detailed output\n",
        "\n",
        "for digit in range(10): # For each digit between 0 and 9 (range(n) gives a range (almost a list) of each number between 0 and n (excluding n)\n",
        "    vector = x[digit] # Get the correct vector representation of the digit\n",
        "\n",
        "    outputs = [] # Create an empty list to put the perceptrons' outputs in\n",
        "    for w, b in zip(weights, biases): # For each weight and bias in the lists (zip takes two lists [x1,x2,...] [y1,y2,...] and makes a new list [(x1,y1),(x2,y2),...])\n",
        "\n",
        "        # CHANGE THIS LINE TO ADD BIASES AS WELL\n",
        "        output = w.dot(vector) + b  # Calculating the output of the perceptron with weight w and bias b\n",
        "\n",
        "        outputs.append(output) # Adding the output to the list of outputs\n",
        "    prediction = outputs.index(max(outputs)) # Get prediction by taking the index of the output value with maximum input\n",
        "\n",
        "    print(f'Digit {digit} was predicted to be {prediction}') # This is an f-string with notation f'text {variable1} more text {variable2}'\n",
        "\n",
        "    if debug: # If debug is True\n",
        "        print(f'Outputs for all perceptrons for the digit {digit}: {outputs}')\n",
        "        print() # Add a newline for formating"
      ]
    },
    {
      "cell_type": "markdown",
      "metadata": {
        "collapsed": false,
        "id": "ii7YdeVQakfN"
      },
      "source": [
        "### Task 1.2\n",
        "\n",
        "Next you will train a classifier for the seven-segment display digits using PyTorch, much like you did in Exercise 0 with another dataset. The goal is to learn the weights and biases to correctly classify the digits of a seven-segment display. For this task you have the data needed via the first task above.\n",
        "\n",
        "Create the network using the PyTorch model [torch.nn.Linear](https://pytorch.org/docs/stable/generated/torch.nn.Linear.html), which you can find more information about in the [PyTorch documentation](https://pytorch.org/docs/stable/index.html). Whenever you encounter a new PyTorch function or class it's helpful to look it up in the documentation. If you wonder whether a particular machine learning feature exists in PyTorch you can also search in the documentation, or use the more brute force method of web search or asking an artificial intelligence for further information (see the discussion forum about AI in Canvas for further information)."
      ]
    },
    {
      "cell_type": "code",
      "execution_count": null,
      "metadata": {
        "ExecuteTime": {
          "end_time": "2024-01-09T14:15:19.236289400Z",
          "start_time": "2024-01-09T14:15:19.226355400Z"
        },
        "id": "6Fi9d0upakfN",
        "colab": {
          "base_uri": "https://localhost:8080/"
        },
        "outputId": "e9e8a16d-f72c-4975-d43c-c3e83a707563"
      },
      "outputs": [
        {
          "output_type": "stream",
          "name": "stderr",
          "text": [
            "<ipython-input-7-518c45ae64c0>:6: UserWarning: Creating a tensor from a list of numpy.ndarrays is extremely slow. Please consider converting the list to a single numpy.ndarray with numpy.array() before converting to a tensor. (Triggered internally at ../torch/csrc/utils/tensor_new.cpp:261.)\n",
            "  data = torch.Tensor(x) # A Tensor can be created by simply giving it a nested numpy array/list of numbers as input\n"
          ]
        }
      ],
      "source": [
        "## Data and labels\n",
        "# You don't need to edit this code, we simply show you how, in this case, we create the data and labels we need\n",
        "\n",
        "# A matrix (or vector) in PyTorch is usually represented by a Tensor\n",
        "# Create a Tensor with our digit vectors\n",
        "data = torch.Tensor(x) # A Tensor can be created by simply giving it a nested numpy array/list of numbers as input\n",
        "data = data.detach() # Since we won't be chaning the data during training we detach the Tensor from the computation graph\n",
        "\n",
        "# Our labels will be the expected outputs of each perceptron for each digit\n",
        "# This means we can't simply say \"5\" is our expected output, but rather that we want [0,0,0,0,0,1,0,0,0,0]\n",
        "# This is called one-hot encoding where we have a vector where the value is one at the given index and zero everywhere else\n",
        "# Since a matrix with one-hot representations of the corresponding index is simply an identity matrix, we use that as our labels\n",
        "labels = torch.eye(10) # Get a matrix with one-hot representations of each digit in each row (an identity matrix)\n",
        "labels = labels.detach() # Since we won't be changing the labels during training we detach the Tensor from the computation graph"
      ]
    },
    {
      "cell_type": "code",
      "execution_count": null,
      "metadata": {
        "id": "UBvfcCIHakfN"
      },
      "outputs": [],
      "source": [
        "## The network\n",
        "# We create a simple network from torch.nn.Linear\n",
        "\n",
        "input_size = 7 # What is the size of the input vector to the network?\n",
        "output_size = 10 # What is the size of the output vector of the network?\n",
        "\n",
        "network1 = torch.nn.Linear(input_size, output_size) # Creating a single linear layer of a neural network with the given input and output sizes\n",
        "network2 = torch.nn.Linear(input_size, output_size) # Creating a single linear layer of a neural network with the given input and output sizes"
      ]
    },
    {
      "cell_type": "code",
      "execution_count": null,
      "metadata": {
        "id": "m_OzCnJoakfO",
        "colab": {
          "base_uri": "https://localhost:8080/",
          "height": 1000
        },
        "outputId": "bc1d9586-49e0-40a7-c37c-577fb05c6bbb"
      },
      "outputs": [
        {
          "output_type": "stream",
          "name": "stdout",
          "text": [
            "Network 1 output tensor([[ 3.9685e-01,  1.4985e-01,  9.3723e-02, -7.1882e-02, -2.1551e-01,\n",
            "         -3.6395e-02,  1.9970e-02,  1.8727e-01,  3.4588e-01, -2.7708e-02],\n",
            "        [-1.2034e-03,  3.7536e-01, -9.4456e-02,  6.5266e-02,  2.3041e-01,\n",
            "         -1.7540e-01, -1.1240e-01,  2.3363e-01,  4.3481e-03, -1.4060e-02],\n",
            "        [ 1.9121e-01, -6.4589e-02,  5.3990e-01,  9.9097e-02, -1.8117e-02,\n",
            "         -2.1218e-01,  3.9637e-02, -4.1273e-02,  7.8562e-02, -2.1422e-02],\n",
            "        [-1.5716e-01,  1.3182e-01,  1.4889e-01,  4.9954e-01, -1.2258e-02,\n",
            "          1.4728e-01,  1.9105e-01,  1.7530e-01,  1.8735e-01,  1.6703e-01],\n",
            "        [ 3.0293e-02,  1.6052e-01, -1.0488e-01, -4.3936e-02,  6.3746e-01,\n",
            "         -1.6109e-02, -1.0389e-01, -1.8678e-04, -4.0487e-02,  2.4949e-01],\n",
            "        [-2.0703e-02, -2.0247e-01, -1.1983e-01,  1.1895e-01, -2.5970e-03,\n",
            "          3.9498e-01,  3.2117e-01,  3.8956e-02,  4.8095e-02,  3.1144e-01],\n",
            "        [ 1.0941e-01, -1.2612e-01,  1.1607e-01, -7.8003e-02,  1.5080e-01,\n",
            "          3.2519e-01,  4.2646e-01, -2.2197e-01,  4.9734e-02,  5.9374e-02],\n",
            "        [ 2.6436e-01,  3.1144e-01,  2.0907e-02,  1.2839e-01,  7.9025e-02,\n",
            "          1.7316e-01, -1.0080e-01,  4.2224e-01, -7.6294e-02, -1.5697e-02],\n",
            "        [ 2.0065e-01,  7.1592e-02,  2.3404e-01,  6.0750e-02,  1.6634e-01,\n",
            "          1.0019e-01,  1.6241e-01, -6.6084e-02,  2.4502e-01,  7.5406e-02],\n",
            "        [ 7.0536e-02, -4.7563e-03, -1.8599e-03,  2.5770e-01,  1.2939e-02,\n",
            "          1.6999e-01,  5.7117e-02,  1.9484e-01,  2.4338e-01,  3.2747e-01]],\n",
            "       grad_fn=<AddmmBackward0>)\n"
          ]
        },
        {
          "output_type": "display_data",
          "data": {
            "text/plain": [
              "<Figure size 640x480 with 1 Axes>"
            ],
            "image/png": "[encoded data removed]"
          },
          "metadata": {}
        },
        {
          "output_type": "stream",
          "name": "stdout",
          "text": [
            "Network2 output tensor([[ 8.3156e-01,  1.6249e-01, -7.7400e-03, -1.6081e-01, -1.6519e-01,\n",
            "         -5.4799e-03,  3.9619e-03,  1.4789e-03,  1.7550e-01,  1.6366e-01],\n",
            "        [ 1.6392e-01,  8.2657e-01, -1.1661e-02,  1.7474e-01,  1.6908e-01,\n",
            "         -8.2207e-03,  6.0130e-03,  3.2390e-03, -1.5323e-01, -1.7118e-01],\n",
            "        [-4.1749e-03, -9.2077e-03,  9.8054e-01,  1.6861e-02,  3.1224e-03,\n",
            "         -1.3873e-02,  9.7673e-03,  8.3446e-04,  2.1827e-02, -7.5683e-03],\n",
            "        [-1.6286e-01,  1.7476e-01,  1.8253e-02,  8.1664e-01, -1.6936e-01,\n",
            "          1.3048e-02, -9.0878e-03,  4.1094e-04,  1.4636e-01,  1.7377e-01],\n",
            "        [-1.6696e-01,  1.6624e-01, -1.7539e-03, -1.6449e-01,  8.3344e-01,\n",
            "         -1.2790e-03,  8.2461e-04, -8.1768e-04,  1.6852e-01,  1.6598e-01],\n",
            "        [-4.4327e-03, -9.9524e-03, -2.0351e-02,  1.7097e-02,  3.4090e-03,\n",
            "          7.3552e-01,  2.6026e-01,  1.5933e-03, -2.2708e-01,  2.4209e-01],\n",
            "        [ 1.4769e-03,  3.2647e-03,  6.7679e-03, -5.7527e-03, -1.1187e-03,\n",
            "          2.5482e-01,  7.4658e-01, -4.4771e-04,  2.4239e-01, -2.4736e-01],\n",
            "        [ 1.1532e-03,  3.2874e-03,  4.0372e-03, -1.2463e-03, -1.2589e-03,\n",
            "          2.7784e-03, -2.2164e-03,  9.9678e-01, -4.9305e-03,  1.5597e-03],\n",
            "        [ 1.7187e-01, -1.5493e-01,  2.3769e-02,  1.4688e-01,  1.6264e-01,\n",
            "         -2.3309e-01,  2.3801e-01, -2.1039e-03,  5.5654e-01,  9.2572e-02],\n",
            "        [ 1.6596e-01, -1.6815e-01, -3.3498e-03,  1.6973e-01,  1.6716e-01,\n",
            "          2.4760e-01, -2.4832e-01, -6.2925e-05,  8.7062e-02,  5.8202e-01]],\n",
            "       grad_fn=<AddmmBackward0>)\n"
          ]
        },
        {
          "output_type": "display_data",
          "data": {
            "text/plain": [
              "<Figure size 640x480 with 1 Axes>"
            ],
            "image/png": "[encoded data removed]"
          },
          "metadata": {}
        },
        {
          "output_type": "display_data",
          "data": {
            "text/plain": [
              "<Figure size 640x480 with 2 Axes>"
            ],
            "image/png": "[encoded data removed]"
          },
          "metadata": {}
        },
        {
          "output_type": "stream",
          "name": "stdout",
          "text": [
            "Labels tensor([[1., 0., 0., 0., 0., 0., 0., 0., 0., 0.],\n",
            "        [0., 1., 0., 0., 0., 0., 0., 0., 0., 0.],\n",
            "        [0., 0., 1., 0., 0., 0., 0., 0., 0., 0.],\n",
            "        [0., 0., 0., 1., 0., 0., 0., 0., 0., 0.],\n",
            "        [0., 0., 0., 0., 1., 0., 0., 0., 0., 0.],\n",
            "        [0., 0., 0., 0., 0., 1., 0., 0., 0., 0.],\n",
            "        [0., 0., 0., 0., 0., 0., 1., 0., 0., 0.],\n",
            "        [0., 0., 0., 0., 0., 0., 0., 1., 0., 0.],\n",
            "        [0., 0., 0., 0., 0., 0., 0., 0., 1., 0.],\n",
            "        [0., 0., 0., 0., 0., 0., 0., 0., 0., 1.]])\n"
          ]
        }
      ],
      "source": [
        "## Training the network\n",
        "# You don't need to edit this code, we have given you the training loop to train the network\n",
        "\n",
        "epochs = 30 # How many epochs (complete runs of the data) to train for. Since our dataset is small 100 seems reasonable\n",
        "loss_function = torch.nn.MSELoss() # What function to use to calculate the loss given the prediction and labels\n",
        "optimizer = torch.optim.SGD(network1.parameters(), lr=1) # Function for updating the parameters of the network based on loss\n",
        "learning_rate = 1 # How fast to optimize the network. Since our problem is quite small we can have a large learning rate, otherise 0.01 is usually standard\n",
        "\n",
        "# Create a list to keep track of how the loss changes\n",
        "losses = []\n",
        "\n",
        "# For each epoch\n",
        "for epoch in range(epochs):\n",
        "\n",
        "    # Predict for each vector what digit they represent\n",
        "    prediction = network1(data)\n",
        "\n",
        "    # Calculate the loss of the prediction by comparing to the expected output\n",
        "    loss = loss_function(prediction, labels)\n",
        "\n",
        "    # Backpropogate the loss through the network to find the gradients of all parameters\n",
        "    loss.backward()\n",
        "\n",
        "    # Update the parameters along their gradients\n",
        "    optimizer.step()\n",
        "\n",
        "    # Clear stored gradient values\n",
        "    optimizer.zero_grad()\n",
        "\n",
        "    # Add the loss to the total epoch loss (item() turns a PyTorch scalar into a normal Python datatype)\n",
        "    losses.append(loss.item())\n",
        "\n",
        "    #Print the epoch and loss every 10 epochs\n",
        "#    if epoch % 10 == 9:\n",
        "#        print(f'Epoch {epoch+1} - Loss: {loss}')\n",
        "\n",
        "# Plot the training loss per epoch\n",
        "print(\"Network 1 output\", network1(data))\n",
        "\n",
        "#for name, param in network1.named_parameters():\n",
        "#  print(name, param)\n",
        "\n",
        "# Plot the training loss per epoch\n",
        "plt.plot(range(1,epochs+1),losses)\n",
        "plt.xlabel('Epochs')\n",
        "plt.ylabel('Loss')\n",
        "plt.show()\n",
        "\n",
        "## Training the network\n",
        "# You don't need to edit this code, we have given you the training loop to train the network\n",
        "\n",
        "epochs = 1000 # How many epochs (complete runs of the data) to train for. Since our dataset is small 100 seems reasonable\n",
        "loss_function = torch.nn.MSELoss() # What function to use to calculate the loss given the prediction and labels\n",
        "optimizer = torch.optim.SGD(network2.parameters(), lr=1) # Function for updating the parameters of the network based on loss\n",
        "learning_rate = 1 # How fast to optimize the network. Since our problem is quite small we can have a large learning rate, otherise 0.01 is usually standard\n",
        "\n",
        "# Create a list to keep track of how the loss changes\n",
        "losses = []\n",
        "\n",
        "# For each epoch\n",
        "for epoch in range(epochs):\n",
        "\n",
        "    # Predict for each vector what digit they represent\n",
        "    prediction = network2(data)\n",
        "\n",
        "    # Calculate the loss of the prediction by comparing to the expected output\n",
        "    loss = loss_function(prediction, labels)\n",
        "\n",
        "    # Backpropogate the loss through the network to find the gradients of all parameters\n",
        "    loss.backward()\n",
        "\n",
        "    # Update the parameters along their gradients\n",
        "    optimizer.step()\n",
        "\n",
        "    # Clear stored gradient values\n",
        "    optimizer.zero_grad()\n",
        "\n",
        "    # Add the loss to the total epoch loss (item() turns a PyTorch scalar into a normal Python datatype)\n",
        "    losses.append(loss.item())\n",
        "\n",
        "print(f\"Network2 output {network2(data)}\")\n",
        "\n",
        "# Plot the training loss per epoch\n",
        "plt.plot(range(1,epochs+1),losses)\n",
        "plt.xlabel('Epochs')\n",
        "plt.ylabel('Loss')\n",
        "plt.show()\n",
        "\n",
        "prediction = network2(data).detach()\n",
        "fig, ax0 = plt.subplots(1, 1)\n",
        "digits = numpy.arange(10)  # len = 6\n",
        "X, Y = numpy.meshgrid(digits, digits)\n",
        "im = ax0.pcolormesh(X, Y, prediction, vmin=0.0, vmax=1.0)  # vmax=0.8\n",
        "fig.colorbar(im, ax=ax0)\n",
        "plt.show()\n",
        "\n",
        "print(f\"Labels {labels}\")\n"
      ]
    },
    {
      "cell_type": "markdown",
      "metadata": {
        "collapsed": false,
        "id": "awyEnJ0MakfO"
      },
      "source": [
        "### Task 1.3: Check the solution\n",
        "\n",
        "Execute the cell below to see whether the network managed to learn to make the correct predictions.\n",
        "Can you figure out what the learned weights and biases are, and how similar they are to your hardcoded solutions in the first task?"
      ]
    },
    {
      "cell_type": "code",
      "execution_count": null,
      "metadata": {
        "id": "UoxKyWpnakfP",
        "colab": {
          "base_uri": "https://localhost:8080/"
        },
        "outputId": "427fa365-dd89-4465-8ff8-621f2c16b1eb"
      },
      "outputs": [
        {
          "output_type": "stream",
          "name": "stdout",
          "text": [
            "Digit 0 was predicted to be 0\n",
            "Digit 1 was predicted to be 1\n",
            "Digit 2 was predicted to be 2\n",
            "Digit 3 was predicted to be 3\n",
            "Digit 4 was predicted to be 4\n",
            "Digit 5 was predicted to be 5\n",
            "Digit 6 was predicted to be 6\n",
            "Digit 7 was predicted to be 7\n",
            "Digit 8 was predicted to be 8\n",
            "Digit 9 was predicted to be 9\n"
          ]
        }
      ],
      "source": [
        "## Testing the trained network\n",
        "# You don't need to edit this code\n",
        "\n",
        "with torch.no_grad(): # Since we're not training we don't want to calculate the gradients for this prediction\n",
        "    prediction = network1(data) # Let's make one final prediction of the data\n",
        "\n",
        "for digit in range(10):\n",
        "    print(f'Digit {digit} was predicted to be {torch.argmax(prediction[digit])}') # argmax gets the index with the greatest value"
      ]
    },
    {
      "cell_type": "markdown",
      "metadata": {
        "collapsed": false,
        "id": "OFdbURfUakfQ"
      },
      "source": [
        "## Task 2\n",
        "\n",
        "While it is unnecessary to use machine learning to develop classifiers for a seven-segment display there are many other datasets for which it is difficult, if not impossible, to engineer such solutions without data-driven training/optimization of a model. For example, we have no generally useful and efficient method enabling us to write a program that can tell the difference between images of cats and dogs. However, we can easily gather many images of each, label the images, and use the resulting dataset to train a neural network that solves the task. A central problem in machine learning is how to define and train such a model to obtain maximum performance on new data which has not been used to optimize the model, referred to as the generalization of the model. Another important problem in machine learning is to minimize the computational cost of training and using such models.\n",
        "\n",
        "Next you will extend the work started in Exercise 0 by developing a 2-layer neural network for classification of the MNIST dataset. MNIST consist of 70,000 grayscale images of handwritten digits that are 28x28 pixels each. Our goal is to train a 2-layer network that can recognize what digit an image represents. The subtasks are\n",
        "\n",
        "* Implementation of a 2 layer NN (very similar to ex0)\n",
        "* Training of this 2 layer NN (once again, very similar to ex0)\n",
        "* Validation of the network during training (requires splitting the training set)\n",
        "    - Save the model which performs the best on the validation data\n",
        "* Graph the training loss vs validation loss\n",
        "* You should obtain at least 85% accuracy on the test data (remember to load the best performing model before performing the accuracy test)\n",
        "\n",
        "The code below loads the dataset (downloads it if necessary) and displays one of the images. You have to modify this code to complete this task."
      ]
    },
    {
      "cell_type": "code",
      "execution_count": null,
      "metadata": {
        "ExecuteTime": {
          "end_time": "2024-01-09T14:42:41.322260300Z",
          "start_time": "2024-01-09T14:42:41.058524Z"
        },
        "id": "vRJ_DR7BakfQ",
        "colab": {
          "base_uri": "https://localhost:8080/",
          "height": 812
        },
        "outputId": "fa8dafb4-129d-4de1-923f-c75721d0345e"
      },
      "outputs": [
        {
          "output_type": "stream",
          "name": "stdout",
          "text": [
            "Downloading http://yann.lecun.com/exdb/mnist/train-images-idx3-ubyte.gz\n",
            "Downloading http://yann.lecun.com/exdb/mnist/train-images-idx3-ubyte.gz to ./MNIST/raw/train-images-idx3-ubyte.gz\n"
          ]
        },
        {
          "output_type": "stream",
          "name": "stderr",
          "text": [
            "100%|██████████| 9912422/9912422 [00:00<00:00, 85894195.95it/s]\n"
          ]
        },
        {
          "output_type": "stream",
          "name": "stdout",
          "text": [
            "Extracting ./MNIST/raw/train-images-idx3-ubyte.gz to ./MNIST/raw\n",
            "\n",
            "Downloading http://yann.lecun.com/exdb/mnist/train-labels-idx1-ubyte.gz\n",
            "Downloading http://yann.lecun.com/exdb/mnist/train-labels-idx1-ubyte.gz to ./MNIST/raw/train-labels-idx1-ubyte.gz\n"
          ]
        },
        {
          "output_type": "stream",
          "name": "stderr",
          "text": [
            "100%|██████████| 28881/28881 [00:00<00:00, 33343158.22it/s]\n"
          ]
        },
        {
          "output_type": "stream",
          "name": "stdout",
          "text": [
            "Extracting ./MNIST/raw/train-labels-idx1-ubyte.gz to ./MNIST/raw\n",
            "\n",
            "Downloading http://yann.lecun.com/exdb/mnist/t10k-images-idx3-ubyte.gz\n",
            "Downloading http://yann.lecun.com/exdb/mnist/t10k-images-idx3-ubyte.gz to ./MNIST/raw/t10k-images-idx3-ubyte.gz\n"
          ]
        },
        {
          "output_type": "stream",
          "name": "stderr",
          "text": [
            "100%|██████████| 1648877/1648877 [00:00<00:00, 22227658.37it/s]\n"
          ]
        },
        {
          "output_type": "stream",
          "name": "stdout",
          "text": [
            "Extracting ./MNIST/raw/t10k-images-idx3-ubyte.gz to ./MNIST/raw\n",
            "\n",
            "Downloading http://yann.lecun.com/exdb/mnist/t10k-labels-idx1-ubyte.gz\n",
            "Downloading http://yann.lecun.com/exdb/mnist/t10k-labels-idx1-ubyte.gz to ./MNIST/raw/t10k-labels-idx1-ubyte.gz\n"
          ]
        },
        {
          "output_type": "stream",
          "name": "stderr",
          "text": [
            "100%|██████████| 4542/4542 [00:00<00:00, 5328819.24it/s]\n"
          ]
        },
        {
          "output_type": "stream",
          "name": "stdout",
          "text": [
            "Extracting ./MNIST/raw/t10k-labels-idx1-ubyte.gz to ./MNIST/raw\n",
            "\n",
            "Mnist_train <class 'torchvision.datasets.mnist.MNIST'>\n",
            "Train <class 'torch.utils.data.dataloader.DataLoader'>\n"
          ]
        },
        {
          "output_type": "display_data",
          "data": {
            "text/plain": [
              "<Figure size 640x480 with 1 Axes>"
            ],
            "image/png": "[encoded data removed]"
          },
          "metadata": {}
        }
      ],
      "source": [
        "# Define the mini-batch size\n",
        "batch_size = 1000\n",
        "\n",
        "# Moved dataset read\n",
        "train_loader = DataLoader(parts[0], batch_size=batch_size, shuffle=False)\n",
        "validate_loader = DataLoader(parts[1], batch_size=batch_size, shuffle=False)\n",
        "print(\"Train\", type(train_loader))\n",
        "\n",
        "test_loader = DataLoader(mnist_test, batch_size=batch_size, shuffle=False)\n",
        "\n",
        "to_onehot = nn.Embedding(10, 10)\n",
        "to_onehot.weight.data = torch.eye(10)\n",
        "\n",
        "def plot_digit(data):\n",
        "    data = data.view(28, 28)\n",
        "    plt.imshow(data, cmap=\"gray\")\n",
        "    plt.show()\n",
        "\n",
        "images, labels = next(iter(train_loader))\n",
        "plot_digit(images[0])"
      ]
    },
    {
      "cell_type": "markdown",
      "metadata": {
        "id": "e9BEaX-zakfQ"
      },
      "source": [
        "### Task 2.1\n",
        "\n",
        "Implement a 2-layer neural network using pytorch as well as a procedure for training and testing it. The training protocol should include both training and validation. Thus you need to split the training data into a training set (for which the error is backpropagated to update the parameters) and a validation set (which will not be used to directly update the model parameters, and instead be used to keep track of how good the model is at unseen data).\n",
        "\n",
        "The weights of the model which performs the best on the validation data should be stored and then be used for the final check on the test set. Validation sets are often created by taking a fraction of the training data (often, but not always, around 20%) at random. In Pytorch you might want to use [random_split](https://pytorch.org/docs/stable/data.html#torch.utils.data.random_split) for this. Using random split would require you to edit the way the Dataloaders are created.\n",
        "\n",
        "You are free to choose any optimizer and loss function. Just note that some loss functions require the labels to be 1-hot encoded. As you will not use convolutional layers for this exercise (will be introduced later in the course), the inputs need to be transformed to 1d tensors (see [view](https://pytorch.org/docs/stable/tensors.html?highlight=view#torch.Tensor.view)).\n",
        "\n",
        "**GOAL:** You should evaluate the network from the epoch with best validation score (early stopping) on the test set aiming to reach at least 85% accuracy.\n",
        "\n",
        "**Remember** to run all your code before grading so that the teacher doesn't have to wait around for long training runs. Plot the training and validation losses for each epoch.\n",
        "\n",
        "*Hint:* Validation and Testing loops are very similar to training except they don't use backpropagation. Additionally testing should only be performed once, while validation should be performed continually to make sure training is proceeding as intended and to save the parameters of the best epoch.\n",
        "\n",
        "*Hint:* Storing the best model is more difficult than just assigning it to a variable as this only means you have two variables referencing the same network instance in memory (not a copy of the best betwork and one containing the current network). Instead you ned to make a copy of the network which can be achived with [deepcopy](https://docs.python.org/3/library/copy.html). Other ways to store models include saving them as a file which can be done with [torch.save](https://pytorch.org/tutorials/beginner/saving_loading_models.html).\n",
        "\n",
        "*Hint:* Everytime you train a network with random parameter initialization and random batches you get networks with different performance. Sometimes just running the training again can be enough to get a better result. However, if you do this too many times you run the risk of training (overfitting) on the test set."
      ]
    },
    {
      "cell_type": "code",
      "execution_count": null,
      "metadata": {
        "id": "nO84iGvDakfQ",
        "colab": {
          "base_uri": "https://localhost:8080/",
          "height": 245
        },
        "outputId": "a6dfeb17-92b3-4d8f-ba33-f6492be2a21e"
      },
      "outputs": [
        {
          "output_type": "error",
          "ename": "NameError",
          "evalue": "name 'device' is not defined",
          "traceback": [
            "\u001b[0;31m---------------------------------------------------------------------------\u001b[0m",
            "\u001b[0;31mNameError\u001b[0m                                 Traceback (most recent call last)",
            "\u001b[0;32m<ipython-input-3-50498824ae25>\u001b[0m in \u001b[0;36m<cell line: 2>\u001b[0;34m()\u001b[0m\n\u001b[1;32m      3\u001b[0m     \u001b[0mnn\u001b[0m\u001b[0;34m.\u001b[0m\u001b[0mLinear\u001b[0m\u001b[0;34m(\u001b[0m\u001b[0;36m28\u001b[0m \u001b[0;34m*\u001b[0m \u001b[0;36m28\u001b[0m\u001b[0;34m,\u001b[0m \u001b[0;36m100\u001b[0m\u001b[0;34m)\u001b[0m\u001b[0;34m,\u001b[0m\u001b[0;34m\u001b[0m\u001b[0;34m\u001b[0m\u001b[0m\n\u001b[1;32m      4\u001b[0m     \u001b[0mnn\u001b[0m\u001b[0;34m.\u001b[0m\u001b[0mLinear\u001b[0m\u001b[0;34m(\u001b[0m\u001b[0;36m100\u001b[0m\u001b[0;34m,\u001b[0m \u001b[0;36m10\u001b[0m\u001b[0;34m)\u001b[0m\u001b[0;34m,\u001b[0m\u001b[0;34m\u001b[0m\u001b[0;34m\u001b[0m\u001b[0m\n\u001b[0;32m----> 5\u001b[0;31m ).to(device)\n\u001b[0m\u001b[1;32m      6\u001b[0m \u001b[0;34m\u001b[0m\u001b[0m\n\u001b[1;32m      7\u001b[0m \u001b[0;32mdef\u001b[0m \u001b[0mbuild_input\u001b[0m\u001b[0;34m(\u001b[0m\u001b[0mimages\u001b[0m\u001b[0;34m)\u001b[0m\u001b[0;34m:\u001b[0m\u001b[0;34m\u001b[0m\u001b[0;34m\u001b[0m\u001b[0m\n",
            "\u001b[0;31mNameError\u001b[0m: name 'device' is not defined"
          ]
        }
      ],
      "source": [
        "# Implement the network here using PyTorch\n",
        "net = nn.Sequential(\n",
        "    nn.Linear(28 * 28, 100),\n",
        "    nn.Linear(100, 10),\n",
        ").to(device)\n",
        "\n",
        "def build_input(images):\n",
        "  return images.view(-1, 28 * 28)\n",
        "\n",
        "learning_rate = 1e-3\n",
        "optimizer = torch.optim.RMSprop(net.parameters(), lr=learning_rate)\n",
        "\n",
        "_m = nn.Sigmoid()\n",
        "_loss_fn = nn.BCELoss()\n",
        "def loss_fn(prediction, labels):\n",
        "  return _loss_fn(_m(prediction), labels)\n",
        "\n",
        "def to_onehot(tensor):\n",
        "  return nn.functional.one_hot(tensor, num_classes=10)\n",
        "\n",
        "epocs = 100\n",
        "epocs_since_best = 0\n",
        "prev_fraction = 0.0\n",
        "best_fraction = 0.0\n",
        "best_net = None\n",
        "for epoch in range(epocs):\n",
        "  # Training\n",
        "  for batch_no, (images, labels) in zip(itertools.count(), iter(train_loader)):\n",
        "    labels = to_onehot(labels).type(torch.Tensor).to(device)\n",
        "    images = build_input(images).to(device)\n",
        "\n",
        "    prediction = net(images)\n",
        "\n",
        "    loss = loss_fn(prediction, labels)\n",
        "\n",
        "    net.zero_grad()\n",
        "    gradients = loss.backward()\n",
        "    optimizer.step()\n",
        "\n",
        "  # Validation\n",
        "  correct = 0\n",
        "  validation_size = 0\n",
        "  for batch_no, (images, labels) in zip(itertools.count(), iter(validate_loader)):\n",
        "    labels = labels.to(device)\n",
        "    images = build_input(images).to(device)\n",
        "\n",
        "    predictions = net(images)\n",
        "\n",
        "    guesses = torch.argmax(predictions, dim=1)\n",
        "\n",
        "    correct += torch.sum(guesses == labels)\n",
        "    validation_size += labels.shape[0]\n",
        "\n",
        "  epocs_since_best += 1\n",
        "  correct_fraction = correct / validation_size\n",
        "  if correct_fraction > best_fraction:\n",
        "    direction = \"best yet\"\n",
        "    best_net = copy.deepcopy(net)\n",
        "    best_fraction = correct_fraction\n",
        "    epocs_since_best = 0\n",
        "  elif correct_fraction > prev_fraction:\n",
        "    direction = \"up\"\n",
        "  else:\n",
        "    direction = \"stagnant or down\"\n",
        "  prev_fraction = correct_fraction\n",
        "  print(f\"Epoch {epoch} not improving {epocs_since_best}. Total validation success {100 * correct_fraction:.1f}% {direction}\")\n",
        "  if epocs_since_best > 8:\n",
        "      print(\"early break - no progress\")\n",
        "      break\n",
        "\n"
      ]
    },
    {
      "cell_type": "code",
      "source": [
        "# Test\n",
        "correct = 0\n",
        "validation_size = 0\n",
        "for batch_no, (images, labels) in zip(itertools.count(), iter(test_loader)):\n",
        "  labels = labels.to(device)\n",
        "  images = build_input(images).to(device)\n",
        "\n",
        "  predictions = best_net(images)\n",
        "\n",
        "  guesses = torch.argmax(predictions, dim=1)\n",
        "\n",
        "  correct += torch.sum(guesses == labels)\n",
        "  validation_size += labels.shape[0]\n",
        "\n",
        "correct_fraction = correct / validation_size\n",
        "print(f\"Test. Total test success {100 * correct_fraction:.1f}%\")\n"
      ],
      "metadata": {
        "colab": {
          "base_uri": "https://localhost:8080/"
        },
        "id": "ZiQkDfISE8iY",
        "outputId": "289ddd30-b87b-4fe3-97e5-a6c31f1e71c5"
      },
      "execution_count": null,
      "outputs": [
        {
          "output_type": "stream",
          "name": "stdout",
          "text": [
            "Test. Total test success 92.0%\n"
          ]
        }
      ]
    },
    {
      "cell_type": "markdown",
      "metadata": {
        "id": "5EgJ7RVxakfR"
      },
      "source": [
        "## Task 3\n",
        "\n",
        "Implement a 2-layer neural network like above, but now without using a high-level machine learning library like pytorch. The network should function in the same way as the network in Task 2. The code block below contains code to change the training data from the DataLoader format to the \"raw\" numpy format. It also contains some comments to guide you in the right direction. The substasks involved are\n",
        "\n",
        "* Implementation of a 2 layer NN using numpy\n",
        "* Training and validation of the 2 layer NN\n",
        "    - Once again, save the best performing model (can be done in memory)\n",
        "* Graph the training vs validation loss\n",
        "* At least 50% accuracy on the validation data (can be hard to get high accuracy)\n",
        "\n",
        "**Note that the solution does not need to be fast/scalable, thus it is OK to develop a custom solution with, e.g., two explicit weight matrix variables representing the two layers.**\n",
        "\n",
        "### The foward pass\n",
        "This is easy. Recall that each differnt layer is calculated by the formula:\n",
        "$$ y = g(\\mathbf{W}*\\mathbf{x} + b) $$\n",
        "where $W$ is the weight matrix, $x$ the input, $b$ the bias and $g$ the non-linearity. For this exercise you are allowed to put $b = 0$ for simplicity when calculating the backwards pass.\n",
        "\n",
        "### Backward pass\n",
        "This can be tricky. In canvas there is lecture material which explains back propogation and all the maths behind it. It should be under *Modules > Artificial Neural Networks (ANN) - Part 1 > Lecture: Backpropagation derivation.mp4*. This, the supplementary material for the lecture, together with the course book should be enough material for you to be able to implement the training algorithm.\n",
        "\n",
        "### Weight update\n",
        "Once you have calculated the gradient of both weight matrixes, this is updated by:\n",
        "$$ W_i = W_i - \\gamma \\dfrac{dL}{dW_i} $$\n",
        "where $\\gamma$ is the step size, or learning rate.\n",
        "\n",
        "***Remember*** to run all your code before grading so the teacher doesn't have to wait around for long training runs."
      ]
    },
    {
      "cell_type": "code",
      "execution_count": null,
      "metadata": {
        "id": "g3-2kIZGakfR",
        "colab": {
          "base_uri": "https://localhost:8080/"
        },
        "outputId": "e279ee05-c77d-440a-ddd7-c276a1827c6f"
      },
      "outputs": [
        {
          "metadata": {
            "tags": null
          },
          "name": "stdout",
          "output_type": "stream",
          "text": [
            "big bang\n",
            "Epoch 0 103.106s Training loss 1.421, last batch 1.058 Validation loss 1.010 success 70.8%\n",
            "Epoch 1 102.546s Training loss 0.873, last batch 0.730 Validation loss 0.760 success 78.0%\n",
            "Epoch 2 106.116s Training loss 0.711, last batch 0.980 Validation loss 0.648 success 81.2%\n",
            "Epoch 3 104.979s Training loss 0.637, last batch 0.614 Validation loss 0.600 success 82.5%\n",
            "Epoch 4 104.240s Training loss 0.588, last batch 0.913 Validation loss 0.568 success 83.6%\n",
            "Epoch 5 102.943s Training loss 0.551, last batch 0.874 Validation loss 0.537 success 84.2%\n",
            "Epoch 6 102.258s Training loss 0.532, last batch 0.861 Validation loss 0.521 success 84.8%\n",
            "Epoch 7 101.626s Training loss 0.507, last batch 0.862 Validation loss 0.507 success 85.2%\n",
            "Epoch 8 102.523s Training loss 0.486, last batch 1.164 Validation loss 0.489 success 85.4%\n",
            "Epoch 9 102.339s Training loss 0.471, last batch 1.138 Validation loss 0.482 success 85.6%\n",
            "Epoch 10 102.277s Training loss 0.456, last batch 1.101 Validation loss 0.472 success 85.9%\n",
            "Epoch 11 102.441s Training loss 0.442, last batch 1.061 Validation loss 0.460 success 86.0%\n",
            "Epoch 12 103.046s Training loss 0.432, last batch 1.052 Validation loss 0.450 success 86.2%\n",
            "Epoch 13 101.326s Training loss 0.426, last batch 1.031 Validation loss 0.447 success 86.3%\n",
            "Epoch 14 102.780s Training loss 0.418, last batch 0.957 Validation loss 0.442 success 86.4%\n",
            "Epoch 15 102.346s Training loss 0.409, last batch 0.892 Validation loss 0.435 success 86.6%\n"
          ]
        }
      ],
      "source": [
        "import numpy as np\n",
        "import matplotlib.pyplot as plt\n",
        "import sys\n",
        "import time\n",
        "\n",
        "batch_size = 32\n",
        "epochs = 50  # Set the number of epochs to train for\n",
        "D_in = 28*28   # Input size, images are 28x28 = 784 element vectors\n",
        "D_out = 10   # Output size, 10 digit classes\n",
        "H1 = 256     # Hidden layer size\n",
        "gamma = 1e-3 / batch_size # Learning rate\n",
        "\n",
        "train_loader = DataLoader(parts[0], batch_size=batch_size, shuffle=False)\n",
        "validate_loader = DataLoader(parts[1], batch_size=batch_size, shuffle=False)\n",
        "test_loader = DataLoader(mnist_test, batch_size=batch_size, shuffle=False)\n",
        "\n",
        "# Define network with one hidden layer, random initial weights\n",
        "w1 = np.random.randn(H1, D_in)\n",
        "w2 = np.random.randn(D_out, H1)\n",
        "\n",
        "b1=np.random.randn(H1)\n",
        "b2=np.random.randn(D_out)\n",
        "# Training iterations\n",
        "def build_input(images):\n",
        "  return images.view(-1, 28 * 28)\n",
        "\n",
        "def to_onehot(tensor):\n",
        "  return nn.functional.one_hot(tensor, num_classes=10)\n",
        "\n",
        "EPSILON = 1e-6\n",
        "\n",
        "def softmax(y_pred):\n",
        "  y_max = np.max(y_pred, axis=1)\n",
        "  z = np.subtract(y_pred.T, y_max).T  # for numerical stability\n",
        "  z_exp = np.exp(z)\n",
        "  z_exp_sum = np.sum(z_exp, axis=1)\n",
        "  z_exp_sum[z_exp_sum <= EPSILON] = EPSILON\n",
        "  return (z_exp.T / z_exp_sum).T\n",
        "\n",
        "\n",
        "def binary_cross_entropy(y_pred, y_true, axis=0):\n",
        "    \"\"\" Computes binary cross entropy between two distributions.\n",
        "    Input: y_pred: iterable of N non-negative values\n",
        "           y_true: iterable of N non-negative values\n",
        "    Returns: scalar\n",
        "    \"\"\"\n",
        "\n",
        "    if np.any(y_true < 0) or np.any(y_pred < 0):\n",
        "        raise ValueError('Negative values exist.')\n",
        "\n",
        "    # Force to proper probability mass function.\n",
        "    y_true = np.array(y_true, dtype=np.float32)\n",
        "    y_pred = np.array(y_pred, dtype=np.float32)\n",
        "\n",
        "    # Ignore zero 'y' elements.\n",
        "    multiply_1 = np.multiply(y_true, np.log(np.where(y_pred > 0, y_pred, 1)))\n",
        "    multiply_0 = np.multiply((1 - y_true), np.log(np.where((1 - y_pred) > 0, 1 - y_pred, 1)))\n",
        "\n",
        "    if False:\n",
        "      y_pred_ = y_pred.copy()\n",
        "      y_pred_[y_pred <= EPSILON] = EPSILON\n",
        "      y_pred_[y_pred >= 1 - EPSILON] = 1 - EPSILON\n",
        "      # d/dx lg(x) = 1/x\n",
        "      # -(y_true / y_pred + g'(y_pred) * (1 - y_true) / (1 - y_pred)) where g(x) = 1 - y_pred\n",
        "      # rewrite to common denominator, make sure divisor does not get very close to 0\n",
        "      # TODO softmax\n",
        "      loss_d = np.divide(y_pred - y_true,\n",
        "                        np.multiply(y_pred_ - 1, y_pred_))\n",
        "    else:\n",
        "      # Categorical Cross-Entropy Loss\n",
        "      # https://towardsdatascience.com/derivative-of-the-softmax-function-and-the-categorical-cross-entropy-loss-ffceefc081d1\n",
        "      loss_d = y_pred - y_true  # Note: y_pred is limited by softmax\n",
        "\n",
        "    return -(multiply_1 + multiply_0).mean(axis=1), loss_d\n",
        "\n",
        "def loss_fn(y_pred, y):\n",
        "  if False:\n",
        "    # predictions > 1 are interpreted as 1, predictions < 0 are interpreted as 0\n",
        "    err=np.subtract(y_pred.clip(0, 1), y)\n",
        "    loss = np.sum(np.power(err, 2), axis=1)\n",
        "    loss_d = 2*err\n",
        "  else:\n",
        "    y_pred_ = softmax(y_pred)\n",
        "    err_s = np.sign(np.subtract(y_pred_, y))\n",
        "    loss, loss_d = binary_cross_entropy(y_pred_, y)\n",
        "#    if ((err_s[0] != np.sign(loss_d[0])).any()):\n",
        "#      print(f\"loss_d={loss_d[0]}\\n err_s={err_s[0]}\\n y_pred={y_pred_[0]}\\n y_true={y[0]}\")\n",
        "  return loss, loss_d\n",
        "\n",
        "print(\"big bang\")\n",
        "# Train for a number of epochs\n",
        "plot_data = []\n",
        "prev_wall = time.perf_counter()\n",
        "for epoch in range(epochs):\n",
        "    # Training by looping over training set\n",
        "\n",
        "    total_trainings = 0\n",
        "    total_training_loss = 0.0\n",
        "    for batch_no, (inputs, labels) in zip(itertools.count(), iter(train_loader)):\n",
        "        inputs = inputs.numpy()#x\n",
        "        labels = labels.numpy()#y\n",
        "\n",
        "\n",
        "        # iterate through the mini-batch and perform forward pass and backward pass\n",
        "        x = inputs.reshape((-1, D_in))\n",
        "        y = np.eye(10)[labels]    # 1-hot encoding\n",
        "\n",
        "        # Forward pass\n",
        "        h1 = np.matmul(x, w1.T) + b1\n",
        "        h2 = np.matmul(h1,w2.T) + b2\n",
        "        #h_relu = np.maximum(0,h1) # x * (x > 0)\n",
        "        y_pred = h2\n",
        "\n",
        "        # Compute loss function, squared error\n",
        "        loss, loss_d = loss_fn(y_pred, y)\n",
        "        batch_training_loss = loss.sum()\n",
        "        batch_trainings = labels.shape[0]\n",
        "        total_training_loss += loss.sum()\n",
        "        total_trainings += labels.shape[0]\n",
        "\n",
        " #       print(f\"Epoch {epoch} batch {batch_no} loss {np.mean(loss):.3f} {loss[0:3]}\")\n",
        "\n",
        "        # Compute gradients of square-error loss with respect to w1 and w2 using backpropagation\n",
        "        #derivate of loss function\n",
        "        for index in range(batch_size):\n",
        "            h1_ = (h1[index]).reshape((H1, 1))\n",
        "            g = loss_d[index].reshape((D_out, 1))\n",
        "            #layer2\n",
        "            #activater function g=g cause we don't have an activater function\n",
        "            #lamda=0 no regulization then\n",
        "            b2_d = g.reshape((D_out,))\n",
        "            w2_d = np.matmul(g, h1_.T)\n",
        "            g = np.matmul(w2.T, g)\n",
        "            #layer1\n",
        "            b1_d = g.reshape((H1,))\n",
        "            w1_d = np.matmul(g, x[index].reshape((D_in, 1)).T)\n",
        "\n",
        "            # Update weights\n",
        "            b2 -= gamma * b2_d\n",
        "            b1 -= gamma * b1_d\n",
        "\n",
        "            w2 -= gamma * w2_d\n",
        "            w1 -= gamma * w1_d\n",
        "\n",
        "    # Validate the model\n",
        "    total_validations = 0\n",
        "    correct = 0\n",
        "    total_validation_loss = 0.0\n",
        "    for batch_no, (images, labels) in zip(itertools.count(), iter(validate_loader)):\n",
        "      labels = labels.numpy()\n",
        "      images = images.numpy()\n",
        "\n",
        "      x = images.reshape((-1, D_in))\n",
        "\n",
        "      h1 = np.matmul(x, w1.T) + b1\n",
        "      h2 = np.matmul(h1, w2.T) + b2\n",
        "      predictions = h2\n",
        "\n",
        "      guesses = numpy.argmax(predictions, axis=1)\n",
        "\n",
        "      correct += numpy.sum(guesses == labels)\n",
        "      total_validations += labels.shape[0]\n",
        "\n",
        "      loss, _ = loss_fn(predictions, np.eye(10)[labels])\n",
        "      total_validation_loss += loss.sum()\n",
        "    correct_fraction = correct / total_validations\n",
        "    validation_loss_mean = total_validation_loss / total_validations\n",
        "    training_loss_mean = total_training_loss / total_trainings\n",
        "    batch_training_loss_mean = batch_training_loss / batch_trainings  # last batch\n",
        "    now_wall = time.perf_counter()\n",
        "    print(f\"Epoch {epoch} {now_wall - prev_wall:.3f}s Training loss {training_loss_mean:.3f}, last batch {batch_training_loss_mean:.3f} \"\n",
        "          f\"Validation loss {validation_loss_mean:.3f} \"\n",
        "          f\"success {100 * correct_fraction:.1f}%\")\n",
        "    prev_wall = now_wall\n",
        "# Plot training and validation loss\n",
        "    plot_data.append((training_loss_mean, batch_training_loss_mean, validation_loss_mean, correct_fraction))\n",
        "\n",
        "\n"
      ]
    },
    {
      "cell_type": "code",
      "source": [
        "plot_data_ = numpy.array(plot_data)\n",
        "\n",
        "# Plot the training loss per epoch\n",
        "fig, ax = plt.subplots()\n",
        "ttl = ax.plot(plot_data_[:, 0:3])\n",
        "ax.legend([\"total training loss\", \"last batch training loss\", \"validation loss\"])\n",
        "plt.xlabel('Epochs')\n",
        "plt.ylabel('Loss')\n",
        "plt.show()\n",
        "\n",
        "plt.plot(range(1,epochs+1), plot_data_[:, 3])\n",
        "plt.xlabel('Epochs')\n",
        "plt.ylabel('Validation Correctness')\n",
        "plt.show()\n",
        "\n"
      ],
      "metadata": {
        "colab": {
          "base_uri": "https://localhost:8080/",
          "height": 885
        },
        "id": "BPi5I0myzjTz",
        "outputId": "09fc3ce3-8870-4f61-fc1f-7919f715109f"
      },
      "execution_count": null,
      "outputs": [
        {
          "output_type": "display_data",
          "data": {
            "text/plain": [
              "<Figure size 640x480 with 1 Axes>"
            ],
            "image/png": "[encoded data removed]"
          },
          "metadata": {}
        },
        {
          "output_type": "display_data",
          "data": {
            "text/plain": [
              "<Figure size 640x480 with 1 Axes>"
            ],
            "image/png": "[encoded data removed]"
          },
          "metadata": {}
        }
      ]
    },
    {
      "cell_type": "code",
      "source": [
        "# Calculate accuracy on one test batch\n",
        "\n",
        "total = 0\n",
        "correct = 0\n",
        "for batch_no, (images, labels) in zip(itertools.count(), iter(test_loader)):\n",
        "  labels = labels.numpy()\n",
        "  images = images.numpy()\n",
        "\n",
        "  x = images.reshape((-1, D_in))\n",
        "\n",
        "  h1 = np.matmul(x, w1.T) + b1\n",
        "  h2 = np.matmul(h1, w2.T) + b2\n",
        "  predictions = h2\n",
        "\n",
        "  guesses = numpy.argmax(predictions, axis=1)\n",
        "\n",
        "  correct += numpy.sum(guesses == labels)\n",
        "  total += labels.shape[0]\n",
        "\n",
        "correct_fraction = correct / total\n",
        "print(f\"Test. Total test success {100 * correct_fraction:.1f}%\")\n"
      ],
      "metadata": {
        "colab": {
          "base_uri": "https://localhost:8080/"
        },
        "id": "SU7ZQs882spZ",
        "outputId": "d5a43660-9937-46a6-a695-5d0c61e680be"
      },
      "execution_count": null,
      "outputs": [
        {
          "output_type": "stream",
          "name": "stdout",
          "text": [
            "Test. Total test success 88.3%\n"
          ]
        }
      ]
    },
    {
      "cell_type": "markdown",
      "metadata": {
        "id": "j7dn5B3makfR"
      },
      "source": [
        "## Optional programming challenge\n",
        "You have now implemented a 2-layer neural network from scratch! Use this new gained knowledge to create an implementation where we can create and train a network with an arbitrary number of layers and units in each layer. This means that we should be able to specify the structure of the network and then train it using backpropagation."
      ]
    },
    {
      "cell_type": "code",
      "execution_count": null,
      "metadata": {
        "id": "Ln_Q9YAKakfR"
      },
      "outputs": [],
      "source": []
    },
    {
      "cell_type": "markdown",
      "metadata": {
        "collapsed": false,
        "id": "uqrVMN9TakfR"
      },
      "source": [
        "## End\n",
        "\n",
        "You have now reached the end of ANN1. When you have completed and understood the task above please make sure that all results inluding plots have been computed and then schedule a meeting with a teacher. The teacher will then assess orally that you (the lab group) has completed the exercise and that you understand its essental elements."
      ]
    }
  ],
  "metadata": {
    "kernelspec": {
      "display_name": "Python 3",
      "name": "python3"
    },
    "language_info": {
      "codemirror_mode": {
        "name": "ipython",
        "version": 3
      },
      "file_extension": ".py",
      "mimetype": "text/x-python",
      "name": "python",
      "nbconvert_exporter": "python",
      "pygments_lexer": "ipython3",
      "version": "3.8.13"
    },
    "colab": {
      "provenance": [],
      "include_colab_link": true
    }
  },
  "nbformat": 4,
  "nbformat_minor": 0
}